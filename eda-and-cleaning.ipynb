{
 "cells": [
  {
   "cell_type": "markdown",
   "metadata": {},
   "source": [
    "# Heart Failure Clinical Records\n",
    "This notebook will perform some essential EDA and cleaning for the input data.  The data will be exported after it has been cleaned to be used in the model."
   ]
  },
  {
   "cell_type": "markdown",
   "metadata": {},
   "source": [
    "## Introduction\n",
    "\n",
    "The data comes from the [UCL Machine Learning Repository](https://archive.ics.uci.edu/ml/datasets/Heart+failure+clinical+records#).  It contains medical records of 299 patients who had heart failure and consists of 13 clinical features.  There is also an [academic paper](https://doi.org/10.1186/s12911-020-1023-5) associated with this data, which is in fact based upon an [older paper](https://doi.org/10.1371/journal.pone.0181001).  Both of these papers provide significant detail about what the clinical features mean.  I'm only using their work as a light reference because the challenge of solving this is quite fun on its own.\n",
    "\n",
    "In this case, the challenge is to predict the `DEATH_EVENT` of a patient as a boolean (in the form of `0` or `1`).  The complete features present in the data are:\n",
    "\n",
    "* `age` — Age of the patient (years).\n",
    "* `anaemia` — Decrease of red blood cells or hemoglobin (boolean).\n",
    "* `high_blood_pressure` — If the patient has hypertension (boolean).\n",
    "* `creatinine_phosphokinase` — Level of the CPK enzyme in the blood (mcg/L).\n",
    "* `diabetes` — If the patient has diabetes (boolean).\n",
    "* `ejection_fraction` — Percentage of blood leaving the heart at each contraction (percentage/100).\n",
    "* `platelets` — Platelets in the blood (kiloplatelets/mL).\n",
    "* `sex` — Woman or man (binary).\n",
    "* `serum_creatinine` — Level of serum creatinine in the blood (mg/dL).\n",
    "* `serum_sodium` — Level of serum sodium in the blood (mEq/L).\n",
    "* `smoking` — If the patient smokes or not (boolean).\n",
    "* `time` — Follow-up period (days).\n",
    "* `DEATH_EVENT` — If the patient deceased during the follow-up period (boolean).\n",
    "\n",
    "The newer paper that this data is based upon suggests that using only `ejection_fraction` and `serum_creatinine` can result in an accuracy of ~0.838 (among other measurements)."
   ]
  },
  {
   "cell_type": "markdown",
   "metadata": {},
   "source": [
    "## Preparation"
   ]
  },
  {
   "cell_type": "code",
   "execution_count": 1,
   "metadata": {},
   "outputs": [],
   "source": [
    "import pandas as pd\n",
    "from IPython.display import display, HTML\n",
    "import numpy as np\n",
    "from scipy import stats\n",
    "import matplotlib.pyplot as plt\n",
    "%matplotlib inline\n",
    "import seaborn as sns\n",
    "\n",
    "all_data = pd.read_csv('./data/heart_failure_clinical_records_dataset.csv')"
   ]
  },
  {
   "cell_type": "markdown",
   "metadata": {},
   "source": [
    "## Data Overview\n",
    "Let's firstly have a browse of the data just to see what is present."
   ]
  },
  {
   "cell_type": "code",
   "execution_count": 2,
   "metadata": {},
   "outputs": [
    {
     "data": {
      "text/html": [
       "<div>\n",
       "<style scoped>\n",
       "    .dataframe tbody tr th:only-of-type {\n",
       "        vertical-align: middle;\n",
       "    }\n",
       "\n",
       "    .dataframe tbody tr th {\n",
       "        vertical-align: top;\n",
       "    }\n",
       "\n",
       "    .dataframe thead th {\n",
       "        text-align: right;\n",
       "    }\n",
       "</style>\n",
       "<table border=\"1\" class=\"dataframe\">\n",
       "  <thead>\n",
       "    <tr style=\"text-align: right;\">\n",
       "      <th></th>\n",
       "      <th>age</th>\n",
       "      <th>anaemia</th>\n",
       "      <th>creatinine_phosphokinase</th>\n",
       "      <th>diabetes</th>\n",
       "      <th>ejection_fraction</th>\n",
       "      <th>high_blood_pressure</th>\n",
       "      <th>platelets</th>\n",
       "      <th>serum_creatinine</th>\n",
       "      <th>serum_sodium</th>\n",
       "      <th>sex</th>\n",
       "      <th>smoking</th>\n",
       "      <th>time</th>\n",
       "      <th>DEATH_EVENT</th>\n",
       "    </tr>\n",
       "  </thead>\n",
       "  <tbody>\n",
       "    <tr>\n",
       "      <th>0</th>\n",
       "      <td>75.0</td>\n",
       "      <td>0</td>\n",
       "      <td>582</td>\n",
       "      <td>0</td>\n",
       "      <td>20</td>\n",
       "      <td>1</td>\n",
       "      <td>265000.00</td>\n",
       "      <td>1.9</td>\n",
       "      <td>130</td>\n",
       "      <td>1</td>\n",
       "      <td>0</td>\n",
       "      <td>4</td>\n",
       "      <td>1</td>\n",
       "    </tr>\n",
       "    <tr>\n",
       "      <th>1</th>\n",
       "      <td>55.0</td>\n",
       "      <td>0</td>\n",
       "      <td>7861</td>\n",
       "      <td>0</td>\n",
       "      <td>38</td>\n",
       "      <td>0</td>\n",
       "      <td>263358.03</td>\n",
       "      <td>1.1</td>\n",
       "      <td>136</td>\n",
       "      <td>1</td>\n",
       "      <td>0</td>\n",
       "      <td>6</td>\n",
       "      <td>1</td>\n",
       "    </tr>\n",
       "    <tr>\n",
       "      <th>2</th>\n",
       "      <td>65.0</td>\n",
       "      <td>0</td>\n",
       "      <td>146</td>\n",
       "      <td>0</td>\n",
       "      <td>20</td>\n",
       "      <td>0</td>\n",
       "      <td>162000.00</td>\n",
       "      <td>1.3</td>\n",
       "      <td>129</td>\n",
       "      <td>1</td>\n",
       "      <td>1</td>\n",
       "      <td>7</td>\n",
       "      <td>1</td>\n",
       "    </tr>\n",
       "    <tr>\n",
       "      <th>3</th>\n",
       "      <td>50.0</td>\n",
       "      <td>1</td>\n",
       "      <td>111</td>\n",
       "      <td>0</td>\n",
       "      <td>20</td>\n",
       "      <td>0</td>\n",
       "      <td>210000.00</td>\n",
       "      <td>1.9</td>\n",
       "      <td>137</td>\n",
       "      <td>1</td>\n",
       "      <td>0</td>\n",
       "      <td>7</td>\n",
       "      <td>1</td>\n",
       "    </tr>\n",
       "    <tr>\n",
       "      <th>4</th>\n",
       "      <td>65.0</td>\n",
       "      <td>1</td>\n",
       "      <td>160</td>\n",
       "      <td>1</td>\n",
       "      <td>20</td>\n",
       "      <td>0</td>\n",
       "      <td>327000.00</td>\n",
       "      <td>2.7</td>\n",
       "      <td>116</td>\n",
       "      <td>0</td>\n",
       "      <td>0</td>\n",
       "      <td>8</td>\n",
       "      <td>1</td>\n",
       "    </tr>\n",
       "  </tbody>\n",
       "</table>\n",
       "</div>"
      ],
      "text/plain": [
       "    age  anaemia  creatinine_phosphokinase  diabetes  ejection_fraction  \\\n",
       "0  75.0        0                       582         0                 20   \n",
       "1  55.0        0                      7861         0                 38   \n",
       "2  65.0        0                       146         0                 20   \n",
       "3  50.0        1                       111         0                 20   \n",
       "4  65.0        1                       160         1                 20   \n",
       "\n",
       "   high_blood_pressure  platelets  serum_creatinine  serum_sodium  sex  \\\n",
       "0                    1  265000.00               1.9           130    1   \n",
       "1                    0  263358.03               1.1           136    1   \n",
       "2                    0  162000.00               1.3           129    1   \n",
       "3                    0  210000.00               1.9           137    1   \n",
       "4                    0  327000.00               2.7           116    0   \n",
       "\n",
       "   smoking  time  DEATH_EVENT  \n",
       "0        0     4            1  \n",
       "1        0     6            1  \n",
       "2        1     7            1  \n",
       "3        0     7            1  \n",
       "4        0     8            1  "
      ]
     },
     "execution_count": 2,
     "metadata": {},
     "output_type": "execute_result"
    }
   ],
   "source": [
    "all_data.head()"
   ]
  },
  {
   "cell_type": "markdown",
   "metadata": {},
   "source": [
    "## Sanity Checks"
   ]
  },
  {
   "cell_type": "markdown",
   "metadata": {},
   "source": [
    "Before we continue or make any changes, let's check for any duplicate rows.  Luckily, there are none!"
   ]
  },
  {
   "cell_type": "code",
   "execution_count": 3,
   "metadata": {},
   "outputs": [
    {
     "data": {
      "text/html": [
       "<div>\n",
       "<style scoped>\n",
       "    .dataframe tbody tr th:only-of-type {\n",
       "        vertical-align: middle;\n",
       "    }\n",
       "\n",
       "    .dataframe tbody tr th {\n",
       "        vertical-align: top;\n",
       "    }\n",
       "\n",
       "    .dataframe thead th {\n",
       "        text-align: right;\n",
       "    }\n",
       "</style>\n",
       "<table border=\"1\" class=\"dataframe\">\n",
       "  <thead>\n",
       "    <tr style=\"text-align: right;\">\n",
       "      <th></th>\n",
       "      <th>age</th>\n",
       "      <th>anaemia</th>\n",
       "      <th>creatinine_phosphokinase</th>\n",
       "      <th>diabetes</th>\n",
       "      <th>ejection_fraction</th>\n",
       "      <th>high_blood_pressure</th>\n",
       "      <th>platelets</th>\n",
       "      <th>serum_creatinine</th>\n",
       "      <th>serum_sodium</th>\n",
       "      <th>sex</th>\n",
       "      <th>smoking</th>\n",
       "      <th>time</th>\n",
       "      <th>DEATH_EVENT</th>\n",
       "    </tr>\n",
       "  </thead>\n",
       "  <tbody>\n",
       "  </tbody>\n",
       "</table>\n",
       "</div>"
      ],
      "text/plain": [
       "Empty DataFrame\n",
       "Columns: [age, anaemia, creatinine_phosphokinase, diabetes, ejection_fraction, high_blood_pressure, platelets, serum_creatinine, serum_sodium, sex, smoking, time, DEATH_EVENT]\n",
       "Index: []"
      ]
     },
     "execution_count": 3,
     "metadata": {},
     "output_type": "execute_result"
    }
   ],
   "source": [
    "all_data[all_data.duplicated()]"
   ]
  },
  {
   "cell_type": "markdown",
   "metadata": {},
   "source": [
    "Let's also check for any missing values that may need to be investigated and fixed (imputing or investigated for removal).  We're lucky again that there are none."
   ]
  },
  {
   "cell_type": "code",
   "execution_count": 4,
   "metadata": {},
   "outputs": [
    {
     "name": "stdout",
     "output_type": "stream",
     "text": [
      "Total rows with a null element: 0\n"
     ]
    }
   ],
   "source": [
    "print(f'Total rows with a null element: {sum(all_data.isnull().any(1))}')"
   ]
  },
  {
   "cell_type": "markdown",
   "metadata": {},
   "source": [
    "## Data Types\n",
    "So the data has no duplicates or missing values, which is great.  Let's now check the data types for each column based on the accompanying paper's explanation and fix any that come up.\n",
    "\n",
    "Pandas, by default, uses 64-bit values (`int64`, `float64`, etc.).  We could go about reducing the size of these to save memory, but realistically given the small size of this dataset, it's really not worth doing.\n",
    "\n",
    "Of the below, the two that concern me are `age` and `platelets`.  The former should definitely be an integer, so something is wrong there.  The latter, looking at the brief dataframe print earlier, could be mostly rounded with a few exceptions; this is worth looking into."
   ]
  },
  {
   "cell_type": "code",
   "execution_count": 5,
   "metadata": {},
   "outputs": [
    {
     "data": {
      "text/plain": [
       "age                         float64\n",
       "anaemia                       int64\n",
       "creatinine_phosphokinase      int64\n",
       "diabetes                      int64\n",
       "ejection_fraction             int64\n",
       "high_blood_pressure           int64\n",
       "platelets                   float64\n",
       "serum_creatinine            float64\n",
       "serum_sodium                  int64\n",
       "sex                           int64\n",
       "smoking                       int64\n",
       "time                          int64\n",
       "DEATH_EVENT                   int64\n",
       "dtype: object"
      ]
     },
     "execution_count": 5,
     "metadata": {},
     "output_type": "execute_result"
    }
   ],
   "source": [
    "all_data.dtypes"
   ]
  },
  {
   "cell_type": "markdown",
   "metadata": {},
   "source": [
    "### Age\n",
    "Starting with `age`, we can check what elements are not an integer to see how many are off."
   ]
  },
  {
   "cell_type": "code",
   "execution_count": 6,
   "metadata": {},
   "outputs": [
    {
     "data": {
      "text/html": [
       "<div>\n",
       "<style scoped>\n",
       "    .dataframe tbody tr th:only-of-type {\n",
       "        vertical-align: middle;\n",
       "    }\n",
       "\n",
       "    .dataframe tbody tr th {\n",
       "        vertical-align: top;\n",
       "    }\n",
       "\n",
       "    .dataframe thead th {\n",
       "        text-align: right;\n",
       "    }\n",
       "</style>\n",
       "<table border=\"1\" class=\"dataframe\">\n",
       "  <thead>\n",
       "    <tr style=\"text-align: right;\">\n",
       "      <th></th>\n",
       "      <th>age</th>\n",
       "      <th>anaemia</th>\n",
       "      <th>creatinine_phosphokinase</th>\n",
       "      <th>diabetes</th>\n",
       "      <th>ejection_fraction</th>\n",
       "      <th>high_blood_pressure</th>\n",
       "      <th>platelets</th>\n",
       "      <th>serum_creatinine</th>\n",
       "      <th>serum_sodium</th>\n",
       "      <th>sex</th>\n",
       "      <th>smoking</th>\n",
       "      <th>time</th>\n",
       "      <th>DEATH_EVENT</th>\n",
       "    </tr>\n",
       "  </thead>\n",
       "  <tbody>\n",
       "    <tr>\n",
       "      <th>185</th>\n",
       "      <td>60.667</td>\n",
       "      <td>1</td>\n",
       "      <td>104</td>\n",
       "      <td>1</td>\n",
       "      <td>30</td>\n",
       "      <td>0</td>\n",
       "      <td>389000.0</td>\n",
       "      <td>1.5</td>\n",
       "      <td>136</td>\n",
       "      <td>1</td>\n",
       "      <td>0</td>\n",
       "      <td>171</td>\n",
       "      <td>1</td>\n",
       "    </tr>\n",
       "    <tr>\n",
       "      <th>188</th>\n",
       "      <td>60.667</td>\n",
       "      <td>1</td>\n",
       "      <td>151</td>\n",
       "      <td>1</td>\n",
       "      <td>40</td>\n",
       "      <td>1</td>\n",
       "      <td>201000.0</td>\n",
       "      <td>1.0</td>\n",
       "      <td>136</td>\n",
       "      <td>0</td>\n",
       "      <td>0</td>\n",
       "      <td>172</td>\n",
       "      <td>0</td>\n",
       "    </tr>\n",
       "  </tbody>\n",
       "</table>\n",
       "</div>"
      ],
      "text/plain": [
       "        age  anaemia  creatinine_phosphokinase  diabetes  ejection_fraction  \\\n",
       "185  60.667        1                       104         1                 30   \n",
       "188  60.667        1                       151         1                 40   \n",
       "\n",
       "     high_blood_pressure  platelets  serum_creatinine  serum_sodium  sex  \\\n",
       "185                    0   389000.0               1.5           136    1   \n",
       "188                    1   201000.0               1.0           136    0   \n",
       "\n",
       "     smoking  time  DEATH_EVENT  \n",
       "185        0   171            1  \n",
       "188        0   172            0  "
      ]
     },
     "execution_count": 6,
     "metadata": {},
     "output_type": "execute_result"
    }
   ],
   "source": [
    "all_data[all_data['age'].map(lambda x: not x.is_integer())]"
   ]
  },
  {
   "cell_type": "markdown",
   "metadata": {},
   "source": [
    "It appears that two values are decimals, so it's likely an input error.  Given that they are so few in number, it's worth just rounding them up and converting the column to be an `int64`."
   ]
  },
  {
   "cell_type": "code",
   "execution_count": 7,
   "metadata": {},
   "outputs": [],
   "source": [
    "all_data['age'] = all_data['age'].round(0).astype(np.int64)"
   ]
  },
  {
   "cell_type": "code",
   "execution_count": 8,
   "metadata": {},
   "outputs": [
    {
     "name": "stdout",
     "output_type": "stream",
     "text": [
      "The age column is now: int64\n",
      "Entry 185 is now 61\n",
      "Entry 188 is now 61\n"
     ]
    }
   ],
   "source": [
    "print(f'The age column is now: {all_data.age.dtype}')\n",
    "\n",
    "# Check the above two values that were floats before.\n",
    "print(f'Entry 185 is now {all_data.age.iloc[185]}')\n",
    "print(f'Entry 188 is now {all_data.age.iloc[188]}')"
   ]
  },
  {
   "cell_type": "markdown",
   "metadata": {},
   "source": [
    "### Platelets\n",
    "Now let's deal with the `platelets` column.  From my very limited knowledge of platelet measurements, decimal places don't seem to be used.  Let's have a browse of all non-integer values in that column."
   ]
  },
  {
   "cell_type": "code",
   "execution_count": 9,
   "metadata": {},
   "outputs": [
    {
     "name": "stdout",
     "output_type": "stream",
     "text": [
      "Total number of float platelets: 25\n",
      "Unique float platelet values: [263358.03]\n"
     ]
    }
   ],
   "source": [
    "float_platelets = all_data[all_data['platelets'].map(lambda x: not x.is_integer())]['platelets']\n",
    "\n",
    "print(f'Total number of float platelets: {len(float_platelets)}')\n",
    "print(f'Unique float platelet values: {float_platelets.unique()}')"
   ]
  },
  {
   "cell_type": "markdown",
   "metadata": {},
   "source": [
    "Given that the majority of values are integers, that all 25 of the float values are identical, and that the deviation of these float values is *really* close to an integer, it's fairly safe to round and convert just like `age`.  From what I can see, both the old and new paper don't mention this."
   ]
  },
  {
   "cell_type": "code",
   "execution_count": 10,
   "metadata": {},
   "outputs": [],
   "source": [
    "all_data['platelets'] = all_data['platelets'].round(0).astype(np.int64)"
   ]
  },
  {
   "cell_type": "code",
   "execution_count": 11,
   "metadata": {
    "scrolled": true
   },
   "outputs": [
    {
     "name": "stdout",
     "output_type": "stream",
     "text": [
      "The platelets column is now: int64\n"
     ]
    }
   ],
   "source": [
    "print(f'The platelets column is now: {all_data.platelets.dtype}')"
   ]
  },
  {
   "cell_type": "markdown",
   "metadata": {},
   "source": [
    "## Data Ranges\n",
    "The paper that this data comes with describes the ranges within which the data falls.  Let's have a look at the ranges and see if they match."
   ]
  },
  {
   "cell_type": "code",
   "execution_count": 12,
   "metadata": {},
   "outputs": [
    {
     "data": {
      "text/html": [
       "<div>\n",
       "<style scoped>\n",
       "    .dataframe tbody tr th:only-of-type {\n",
       "        vertical-align: middle;\n",
       "    }\n",
       "\n",
       "    .dataframe tbody tr th {\n",
       "        vertical-align: top;\n",
       "    }\n",
       "\n",
       "    .dataframe thead th {\n",
       "        text-align: right;\n",
       "    }\n",
       "</style>\n",
       "<table border=\"1\" class=\"dataframe\">\n",
       "  <thead>\n",
       "    <tr style=\"text-align: right;\">\n",
       "      <th></th>\n",
       "      <th>age</th>\n",
       "      <th>anaemia</th>\n",
       "      <th>creatinine_phosphokinase</th>\n",
       "      <th>diabetes</th>\n",
       "      <th>ejection_fraction</th>\n",
       "      <th>high_blood_pressure</th>\n",
       "      <th>platelets</th>\n",
       "      <th>serum_creatinine</th>\n",
       "      <th>serum_sodium</th>\n",
       "      <th>sex</th>\n",
       "      <th>smoking</th>\n",
       "      <th>time</th>\n",
       "      <th>DEATH_EVENT</th>\n",
       "    </tr>\n",
       "  </thead>\n",
       "  <tbody>\n",
       "    <tr>\n",
       "      <th>count</th>\n",
       "      <td>299.0</td>\n",
       "      <td>299.0</td>\n",
       "      <td>299.0</td>\n",
       "      <td>299.0</td>\n",
       "      <td>299.0</td>\n",
       "      <td>299.0</td>\n",
       "      <td>299.0</td>\n",
       "      <td>299.0</td>\n",
       "      <td>299.0</td>\n",
       "      <td>299.0</td>\n",
       "      <td>299.0</td>\n",
       "      <td>299.0</td>\n",
       "      <td>299.0</td>\n",
       "    </tr>\n",
       "    <tr>\n",
       "      <th>min</th>\n",
       "      <td>40.0</td>\n",
       "      <td>0.0</td>\n",
       "      <td>23.0</td>\n",
       "      <td>0.0</td>\n",
       "      <td>14.0</td>\n",
       "      <td>0.0</td>\n",
       "      <td>25100.0</td>\n",
       "      <td>0.5</td>\n",
       "      <td>113.0</td>\n",
       "      <td>0.0</td>\n",
       "      <td>0.0</td>\n",
       "      <td>4.0</td>\n",
       "      <td>0.0</td>\n",
       "    </tr>\n",
       "    <tr>\n",
       "      <th>max</th>\n",
       "      <td>95.0</td>\n",
       "      <td>1.0</td>\n",
       "      <td>7861.0</td>\n",
       "      <td>1.0</td>\n",
       "      <td>80.0</td>\n",
       "      <td>1.0</td>\n",
       "      <td>850000.0</td>\n",
       "      <td>9.4</td>\n",
       "      <td>148.0</td>\n",
       "      <td>1.0</td>\n",
       "      <td>1.0</td>\n",
       "      <td>285.0</td>\n",
       "      <td>1.0</td>\n",
       "    </tr>\n",
       "  </tbody>\n",
       "</table>\n",
       "</div>"
      ],
      "text/plain": [
       "         age  anaemia  creatinine_phosphokinase  diabetes  ejection_fraction  \\\n",
       "count  299.0    299.0                     299.0     299.0              299.0   \n",
       "min     40.0      0.0                      23.0       0.0               14.0   \n",
       "max     95.0      1.0                    7861.0       1.0               80.0   \n",
       "\n",
       "       high_blood_pressure  platelets  serum_creatinine  serum_sodium    sex  \\\n",
       "count                299.0      299.0             299.0         299.0  299.0   \n",
       "min                    0.0    25100.0               0.5         113.0    0.0   \n",
       "max                    1.0   850000.0               9.4         148.0    1.0   \n",
       "\n",
       "       smoking   time  DEATH_EVENT  \n",
       "count    299.0  299.0        299.0  \n",
       "min        0.0    4.0          0.0  \n",
       "max        1.0  285.0          1.0  "
      ]
     },
     "execution_count": 12,
     "metadata": {},
     "output_type": "execute_result"
    }
   ],
   "source": [
    "# Could also do this by hand, but whatever.\n",
    "all_data.describe().drop(['mean', 'std', '25%', '50%', '75%'])"
   ]
  },
  {
   "cell_type": "markdown",
   "metadata": {},
   "source": [
    "Of these, `serum_sodium` is listed as having a minimum of `114`, but here it's `113`.  I cannot see this being an issue and it's likely a misreporting, so I'll leave that unchanged.\n",
    "\n",
    "They have also converted `platelets` by multiplying it by `0.001`, likely to either have the units in a different scale or to bring it closer to the other variables.  Regardless, I'll do the same."
   ]
  },
  {
   "cell_type": "code",
   "execution_count": 13,
   "metadata": {},
   "outputs": [],
   "source": [
    "all_data['platelets'] = all_data['platelets'] * 0.001"
   ]
  },
  {
   "cell_type": "markdown",
   "metadata": {},
   "source": [
    "## Skewness\n",
    "Since many outlier detection algorithms are susceptible to skewed datasets, let's firstly see if any of the data needs to be transformed due to being too skewed.  Typically, anything within `+/- 0.5` is acceptable, up to `+/- 1.0` is moderately skewed, and anything over `+/- 1.0` is highly skewed.  We can view these with histograms or by calculating the skew.\n",
    "\n",
    "Any transformations made here will have to be made to new input data to the machine learning model too.\n",
    "\n",
    "Let's begin by identifying any columns that are a little too high."
   ]
  },
  {
   "cell_type": "code",
   "execution_count": 14,
   "metadata": {},
   "outputs": [
    {
     "data": {
      "text/plain": [
       "creatinine_phosphokinase    4.463110\n",
       "serum_creatinine            4.455996\n",
       "platelets                   1.462321\n",
       "ejection_fraction           0.555383\n",
       "serum_sodium               -1.048136\n",
       "dtype: float64"
      ]
     },
     "execution_count": 14,
     "metadata": {},
     "output_type": "execute_result"
    }
   ],
   "source": [
    "# Arbitrarily chosen. Medium skewness is worth investigating.\n",
    "skew_threshold = 0.5\n",
    "\n",
    "# Compute the skewness for all columns except the target and any known booleans.\n",
    "skew_drop = ['anaemia', 'high_blood_pressure', 'diabetes', 'sex', 'smoking', 'DEATH_EVENT']\n",
    "skewed_df = all_data.drop(skew_drop, axis=1).skew().sort_values(ascending=False)\n",
    "skewed_df = skewed_df[(skewed_df > skew_threshold) | (skewed_df < -skew_threshold)]\n",
    "skewed_df"
   ]
  },
  {
   "cell_type": "markdown",
   "metadata": {},
   "source": [
    "There are a few listed above, so let's view them, scale them with a `log`, and then view them again.  Originally I had used `boxcox` here, but it was problematic with `serum_sodium`, returning a very large lambda, so I've reverted to `log` just to be safe."
   ]
  },
  {
   "cell_type": "code",
   "execution_count": 15,
   "metadata": {},
   "outputs": [
    {
     "data": {
      "image/png": "[encoded data removed]",
      "text/plain": [
       "<Figure size 864x432 with 5 Axes>"
      ]
     },
     "metadata": {
      "needs_background": "light"
     },
     "output_type": "display_data"
    }
   ],
   "source": [
    "skew_fig = plt.figure(figsize=(12,6))\n",
    "for i in range(1, len(skewed_df)+1):\n",
    "    skew_fig.add_subplot(2, 3, i)\n",
    "    col = skewed_df.index[i-1]\n",
    "    sns.distplot(all_data[col], rug=True)\n",
    "skew_fig.tight_layout()\n",
    "plt.show()"
   ]
  },
  {
   "cell_type": "code",
   "execution_count": 16,
   "metadata": {},
   "outputs": [],
   "source": [
    "# Log all of the skewed columns in the original dataset.\n",
    "for col in skewed_df.index:\n",
    "    all_data[col] = np.log(all_data[col])\n",
    "    #all_data[col] = stats.boxcox(all_data[col])[0]"
   ]
  },
  {
   "cell_type": "markdown",
   "metadata": {},
   "source": [
    "Now that the columns have been unskewed, the skewness looks much better!"
   ]
  },
  {
   "cell_type": "code",
   "execution_count": 17,
   "metadata": {},
   "outputs": [
    {
     "name": "stdout",
     "output_type": "stream",
     "text": [
      "creatinine_phosphokinase skew: 0.41400698865657504\n",
      "serum_creatinine skew: 1.583989782127556\n",
      "platelets skew: -1.2849539031426445\n",
      "ejection_fraction skew: -0.27210475252918837\n",
      "serum_sodium skew: -1.3122653778551319\n"
     ]
    }
   ],
   "source": [
    "for col in skewed_df.index:\n",
    "    skew_val = all_data[col].skew()\n",
    "    print(f'{col} skew: {skew_val}')"
   ]
  },
  {
   "cell_type": "code",
   "execution_count": 18,
   "metadata": {},
   "outputs": [
    {
     "data": {
      "image/png": "[encoded data removed]",
      "text/plain": [
       "<Figure size 864x432 with 5 Axes>"
      ]
     },
     "metadata": {
      "needs_background": "light"
     },
     "output_type": "display_data"
    }
   ],
   "source": [
    "skew_fig = plt.figure(figsize=(12,6))\n",
    "for i in range(1, len(skewed_df)+1):\n",
    "    skew_fig.add_subplot(2, 3, i)\n",
    "    col = skewed_df.index[i-1]\n",
    "    sns.distplot(all_data[col], rug=True)\n",
    "skew_fig.tight_layout()\n",
    "plt.show()"
   ]
  },
  {
   "cell_type": "markdown",
   "metadata": {},
   "source": [
    "## Outliers\n",
    "Now that the data has been normalized better, we can more accurately detect and process outliers.  We could use a Cook's score here, z-score, or even more advanced methods like clustering with DBSCAN, but I'm going to stick with IQR and I've had good results with it in the past.\n",
    "\n",
    "Treating outliers is always a prickly subject.  We could do nothing, treat them as missing and impute them based on similar values, winsorize them by replacing them with boundary values, remove them completely, and more.  We must also consider that the dataset we have is relatively small, so what we see as outliers may very well be normal in a larger dataset.\n",
    "\n",
    "I tend to firstly look to see if it's obviously a measurement error or data entry error; something that is clearly incorrect.  If that's not the case, then I see how far away that value really is, and whether it's isolated or within a group.  I usually then test the outliers against the target variable, as the very fact that they are \"outliers\" may strongly contribute to the outcome!"
   ]
  },
  {
   "cell_type": "code",
   "execution_count": 19,
   "metadata": {},
   "outputs": [],
   "source": [
    "def outliers_for_column(df, col):\n",
    "    q1 = np.percentile(df[col], 25)\n",
    "    q3 = np.percentile(df[col], 75)\n",
    "    iqr = q3 - q1\n",
    "    lower = q1 - (iqr * 1.5)\n",
    "    upper = q3 + (iqr * 1.5)\n",
    "    return df[(df[col] > upper) | (df[col] < lower)]"
   ]
  },
  {
   "cell_type": "code",
   "execution_count": 20,
   "metadata": {},
   "outputs": [
    {
     "name": "stdout",
     "output_type": "stream",
     "text": [
      "creatinine_phosphokinase has 2 outliers.\n",
      "ejection_fraction has 3 outliers.\n",
      "platelets has 16 outliers.\n",
      "serum_creatinine has 17 outliers.\n",
      "serum_sodium has 5 outliers.\n"
     ]
    }
   ],
   "source": [
    "for col in all_data.columns:\n",
    "    outliers = outliers_for_column(all_data, col)\n",
    "    if len(outliers) > 0:\n",
    "        print(f'{col} has {len(outliers)} outliers.')"
   ]
  },
  {
   "cell_type": "markdown",
   "metadata": {},
   "source": [
    "Below I'm making a helper function to investigate the outliers.  It has five sections.\n",
    "\n",
    "1. Get all of the outliers.\n",
    "2. Calculate deaths in the outliers relative to their own length and also in respect to the global count.\n",
    "3. See how far the outliers sit from the min/mean/max of the data *without* the outliers present.\n",
    "4. Show the outliers' complete row information for inspection.\n",
    "5. Show a boxplot of the original column split by the target variable.\n",
    "\n",
    "These used together can help to decide what to do with the outliers.  One thing to consider here, especially given the limited size of the dataset, is that outliers very well may be a contributing factor for death, and that removing them would significantly reduce the number of deaths, creating a very imbalanced dataset."
   ]
  },
  {
   "cell_type": "code",
   "execution_count": 21,
   "metadata": {},
   "outputs": [],
   "source": [
    "# Helper function for investigating the outliers.\n",
    "def investigate_outliers(df, col):\n",
    "    all_data_len = len(all_data)\n",
    "    all_data_deaths = sum(all_data['DEATH_EVENT'] == 1)\n",
    "    \n",
    "    print(f'{col}:')\n",
    "    \n",
    "    # 1. Get all outliers for the column.\n",
    "    outliers = outliers_for_column(all_data, col)\n",
    "    num_outs = len(outliers)\n",
    "    total_pct = round((num_outs / all_data_len)*100, 2)\n",
    "    print(f'  {num_outs}/{all_data_len} total samples are outliers ({total_pct}%)')\n",
    "    \n",
    "    # 2. How many deaths were a result of the outliers and what percentage is this of the column?\n",
    "    outlier_deaths = outliers[outliers['DEATH_EVENT'] == 1]\n",
    "    num_out_deaths = len(outlier_deaths)\n",
    "    out_death_pct = round((num_out_deaths / num_outs)*100, 2)\n",
    "    out_death_pct_global = round((num_out_deaths / all_data_deaths)*100, 2)\n",
    "    print(f'  {num_out_deaths}/{num_outs} deaths within the outliers ({out_death_pct}%)')\n",
    "    print(f'  {num_out_deaths}/{all_data_deaths} global deaths are from the outliers ({out_death_pct_global}%)')\n",
    "\n",
    "    # 3. How far from the min/max/mean are the outliers?\n",
    "    df_outs_removed = all_data.drop(outliers.index)[col]\n",
    "    removed_min = df_outs_removed.min()\n",
    "    removed_mean = df_outs_removed.mean()\n",
    "    removed_max = df_outs_removed.max()\n",
    "    print(f'\\nWith outliers removed, {col} has ', end='')\n",
    "    print(f'(min={round(removed_min, 2)})', end='')\n",
    "    print(f' (mean={round(removed_mean, 2)})', end='')\n",
    "    print(f' (max: {round(removed_max, 2)}).')\n",
    "    print('Outliers and their distance from the removed mean:')\n",
    "    for idx,row in outliers.iterrows():\n",
    "        print(f'  [{idx}] is ~{round(abs(removed_mean - row[col]), 2)} from the removed mean.')\n",
    "    \n",
    "    # 4. Show the outliers table.\n",
    "    print('\\nRaw data points:')\n",
    "    display(HTML(outliers.to_html()))\n",
    "    \n",
    "    # 5. Show the (non-removed) boxplot for eyeballing outliers, split by DEATH_EVENT.\n",
    "    print(f'\\n{col} boxplot:')\n",
    "    sns.boxplot(x=all_data[col], y=all_data['DEATH_EVENT'], orient='h')"
   ]
  },
  {
   "cell_type": "markdown",
   "metadata": {},
   "source": [
    "### `creatinine_phosphokinase`\n",
    "Let's begin with `creatinine_phosphokinase`.  The two outliers are both responsible for deaths but only make up ~2% of the total death count.  Their actual value does not differ too much from the maximum of the removed mean.  I do not see any reason to remove or alter them based on their values unless they become problematic later."
   ]
  },
  {
   "cell_type": "code",
   "execution_count": 22,
   "metadata": {
    "scrolled": false
   },
   "outputs": [
    {
     "name": "stdout",
     "output_type": "stream",
     "text": [
      "creatinine_phosphokinase:\n",
      "  2/299 total samples are outliers (0.67%)\n",
      "  2/2 deaths within the outliers (100.0%)\n",
      "  2/96 global deaths are from the outliers (2.08%)\n",
      "\n",
      "With outliers removed, creatinine_phosphokinase has (min=3.14) (mean=5.64) (max: 8.68).\n",
      "Outliers and their distance from the removed mean:\n",
      "  [1] is ~3.33 from the removed mean.\n",
      "  [60] is ~3.31 from the removed mean.\n",
      "\n",
      "Raw data points:\n"
     ]
    },
    {
     "data": {
      "text/html": [
       "<table border=\"1\" class=\"dataframe\">\n",
       "  <thead>\n",
       "    <tr style=\"text-align: right;\">\n",
       "      <th></th>\n",
       "      <th>age</th>\n",
       "      <th>anaemia</th>\n",
       "      <th>creatinine_phosphokinase</th>\n",
       "      <th>diabetes</th>\n",
       "      <th>ejection_fraction</th>\n",
       "      <th>high_blood_pressure</th>\n",
       "      <th>platelets</th>\n",
       "      <th>serum_creatinine</th>\n",
       "      <th>serum_sodium</th>\n",
       "      <th>sex</th>\n",
       "      <th>smoking</th>\n",
       "      <th>time</th>\n",
       "      <th>DEATH_EVENT</th>\n",
       "    </tr>\n",
       "  </thead>\n",
       "  <tbody>\n",
       "    <tr>\n",
       "      <th>1</th>\n",
       "      <td>55</td>\n",
       "      <td>0</td>\n",
       "      <td>8.969669</td>\n",
       "      <td>0</td>\n",
       "      <td>3.637586</td>\n",
       "      <td>0</td>\n",
       "      <td>5.573514</td>\n",
       "      <td>0.09531</td>\n",
       "      <td>4.912655</td>\n",
       "      <td>1</td>\n",
       "      <td>0</td>\n",
       "      <td>6</td>\n",
       "      <td>1</td>\n",
       "    </tr>\n",
       "    <tr>\n",
       "      <th>60</th>\n",
       "      <td>45</td>\n",
       "      <td>0</td>\n",
       "      <td>8.949235</td>\n",
       "      <td>1</td>\n",
       "      <td>3.218876</td>\n",
       "      <td>1</td>\n",
       "      <td>5.966147</td>\n",
       "      <td>0.00000</td>\n",
       "      <td>4.934474</td>\n",
       "      <td>1</td>\n",
       "      <td>0</td>\n",
       "      <td>60</td>\n",
       "      <td>1</td>\n",
       "    </tr>\n",
       "  </tbody>\n",
       "</table>"
      ],
      "text/plain": [
       "<IPython.core.display.HTML object>"
      ]
     },
     "metadata": {},
     "output_type": "display_data"
    },
    {
     "name": "stdout",
     "output_type": "stream",
     "text": [
      "\n",
      "creatinine_phosphokinase boxplot:\n"
     ]
    },
    {
     "data": {
      "image/png": "[encoded data removed]",
      "text/plain": [
       "<Figure size 432x288 with 1 Axes>"
      ]
     },
     "metadata": {
      "needs_background": "light"
     },
     "output_type": "display_data"
    }
   ],
   "source": [
    "investigate_outliers(all_data, 'creatinine_phosphokinase')"
   ]
  },
  {
   "cell_type": "markdown",
   "metadata": {},
   "source": [
    "### `ejection_fraction`\n",
    "A very similar situation from the previous variable.  The points are few in number and do not deviate too much.  However, this time all three *did not* die."
   ]
  },
  {
   "cell_type": "code",
   "execution_count": 23,
   "metadata": {},
   "outputs": [
    {
     "name": "stdout",
     "output_type": "stream",
     "text": [
      "ejection_fraction:\n",
      "  3/299 total samples are outliers (1.0%)\n",
      "  3/3 deaths within the outliers (100.0%)\n",
      "  3/96 global deaths are from the outliers (3.12%)\n",
      "\n",
      "With outliers removed, ejection_fraction has (min=2.83) (mean=3.6) (max: 4.38).\n",
      "Outliers and their distance from the removed mean:\n",
      "  [6] is ~0.89 from the removed mean.\n",
      "  [17] is ~0.96 from the removed mean.\n",
      "  [66] is ~0.89 from the removed mean.\n",
      "\n",
      "Raw data points:\n"
     ]
    },
    {
     "data": {
      "text/html": [
       "<table border=\"1\" class=\"dataframe\">\n",
       "  <thead>\n",
       "    <tr style=\"text-align: right;\">\n",
       "      <th></th>\n",
       "      <th>age</th>\n",
       "      <th>anaemia</th>\n",
       "      <th>creatinine_phosphokinase</th>\n",
       "      <th>diabetes</th>\n",
       "      <th>ejection_fraction</th>\n",
       "      <th>high_blood_pressure</th>\n",
       "      <th>platelets</th>\n",
       "      <th>serum_creatinine</th>\n",
       "      <th>serum_sodium</th>\n",
       "      <th>sex</th>\n",
       "      <th>smoking</th>\n",
       "      <th>time</th>\n",
       "      <th>DEATH_EVENT</th>\n",
       "    </tr>\n",
       "  </thead>\n",
       "  <tbody>\n",
       "    <tr>\n",
       "      <th>6</th>\n",
       "      <td>75</td>\n",
       "      <td>1</td>\n",
       "      <td>5.505332</td>\n",
       "      <td>0</td>\n",
       "      <td>2.708050</td>\n",
       "      <td>0</td>\n",
       "      <td>4.844187</td>\n",
       "      <td>0.182322</td>\n",
       "      <td>4.919981</td>\n",
       "      <td>1</td>\n",
       "      <td>0</td>\n",
       "      <td>10</td>\n",
       "      <td>1</td>\n",
       "    </tr>\n",
       "    <tr>\n",
       "      <th>17</th>\n",
       "      <td>45</td>\n",
       "      <td>0</td>\n",
       "      <td>6.366470</td>\n",
       "      <td>0</td>\n",
       "      <td>2.639057</td>\n",
       "      <td>0</td>\n",
       "      <td>5.111988</td>\n",
       "      <td>-0.223144</td>\n",
       "      <td>4.844187</td>\n",
       "      <td>1</td>\n",
       "      <td>0</td>\n",
       "      <td>14</td>\n",
       "      <td>1</td>\n",
       "    </tr>\n",
       "    <tr>\n",
       "      <th>66</th>\n",
       "      <td>42</td>\n",
       "      <td>1</td>\n",
       "      <td>5.521461</td>\n",
       "      <td>1</td>\n",
       "      <td>2.708050</td>\n",
       "      <td>0</td>\n",
       "      <td>5.361292</td>\n",
       "      <td>0.262364</td>\n",
       "      <td>4.912655</td>\n",
       "      <td>0</td>\n",
       "      <td>0</td>\n",
       "      <td>65</td>\n",
       "      <td>1</td>\n",
       "    </tr>\n",
       "  </tbody>\n",
       "</table>"
      ],
      "text/plain": [
       "<IPython.core.display.HTML object>"
      ]
     },
     "metadata": {},
     "output_type": "display_data"
    },
    {
     "name": "stdout",
     "output_type": "stream",
     "text": [
      "\n",
      "ejection_fraction boxplot:\n"
     ]
    },
    {
     "data": {
      "image/png": "[encoded data removed]",
      "text/plain": [
       "<Figure size 432x288 with 1 Axes>"
      ]
     },
     "metadata": {
      "needs_background": "light"
     },
     "output_type": "display_data"
    }
   ],
   "source": [
    "investigate_outliers(all_data, 'ejection_fraction')"
   ]
  },
  {
   "cell_type": "markdown",
   "metadata": {},
   "source": [
    "### `platelets`\n",
    "The outliers here are a little different.  Firstly they are greater in number, almost evenly spread between death and survival, and contribute to a greater number of deaths on the global scale.  Again, though, they do not deviate too far from the removed mean, so I'm not too worried about them yet.  There does seem to be a bias toward the lower bound for outliers which could warrant more investigation in the future."
   ]
  },
  {
   "cell_type": "code",
   "execution_count": 24,
   "metadata": {},
   "outputs": [
    {
     "name": "stdout",
     "output_type": "stream",
     "text": [
      "platelets:\n",
      "  16/299 total samples are outliers (5.35%)\n",
      "  7/16 deaths within the outliers (43.75%)\n",
      "  7/96 global deaths are from the outliers (7.29%)\n",
      "\n",
      "With outliers removed, platelets has (min=4.84) (mean=5.53) (max: 6.23).\n",
      "Outliers and their distance from the removed mean:\n",
      "  [15] is ~1.68 from the removed mean.\n",
      "  [19] is ~1.07 from the removed mean.\n",
      "  [65] is ~0.76 from the removed mean.\n",
      "  [71] is ~0.73 from the removed mean.\n",
      "  [105] is ~0.9 from the removed mean.\n",
      "  [109] is ~1.21 from the removed mean.\n",
      "  [163] is ~1.22 from the removed mean.\n",
      "  [167] is ~1.29 from the removed mean.\n",
      "  [176] is ~0.88 from the removed mean.\n",
      "  [200] is ~1.24 from the removed mean.\n",
      "  [230] is ~1.41 from the removed mean.\n",
      "  [240] is ~0.74 from the removed mean.\n",
      "  [277] is ~2.31 from the removed mean.\n",
      "  [281] is ~1.6 from the removed mean.\n",
      "  [287] is ~0.76 from the removed mean.\n",
      "  [296] is ~1.08 from the removed mean.\n",
      "\n",
      "Raw data points:\n"
     ]
    },
    {
     "data": {
      "text/html": [
       "<table border=\"1\" class=\"dataframe\">\n",
       "  <thead>\n",
       "    <tr style=\"text-align: right;\">\n",
       "      <th></th>\n",
       "      <th>age</th>\n",
       "      <th>anaemia</th>\n",
       "      <th>creatinine_phosphokinase</th>\n",
       "      <th>diabetes</th>\n",
       "      <th>ejection_fraction</th>\n",
       "      <th>high_blood_pressure</th>\n",
       "      <th>platelets</th>\n",
       "      <th>serum_creatinine</th>\n",
       "      <th>serum_sodium</th>\n",
       "      <th>sex</th>\n",
       "      <th>smoking</th>\n",
       "      <th>time</th>\n",
       "      <th>DEATH_EVENT</th>\n",
       "    </tr>\n",
       "  </thead>\n",
       "  <tbody>\n",
       "    <tr>\n",
       "      <th>15</th>\n",
       "      <td>82</td>\n",
       "      <td>1</td>\n",
       "      <td>5.937536</td>\n",
       "      <td>0</td>\n",
       "      <td>3.912023</td>\n",
       "      <td>0</td>\n",
       "      <td>3.850148</td>\n",
       "      <td>0.262364</td>\n",
       "      <td>4.912655</td>\n",
       "      <td>1</td>\n",
       "      <td>0</td>\n",
       "      <td>13</td>\n",
       "      <td>1</td>\n",
       "    </tr>\n",
       "    <tr>\n",
       "      <th>19</th>\n",
       "      <td>48</td>\n",
       "      <td>1</td>\n",
       "      <td>6.366470</td>\n",
       "      <td>1</td>\n",
       "      <td>4.007333</td>\n",
       "      <td>0</td>\n",
       "      <td>4.465908</td>\n",
       "      <td>0.641854</td>\n",
       "      <td>4.795791</td>\n",
       "      <td>0</td>\n",
       "      <td>0</td>\n",
       "      <td>15</td>\n",
       "      <td>1</td>\n",
       "    </tr>\n",
       "    <tr>\n",
       "      <th>65</th>\n",
       "      <td>60</td>\n",
       "      <td>0</td>\n",
       "      <td>4.219508</td>\n",
       "      <td>0</td>\n",
       "      <td>2.995732</td>\n",
       "      <td>0</td>\n",
       "      <td>4.779123</td>\n",
       "      <td>1.064711</td>\n",
       "      <td>4.844187</td>\n",
       "      <td>1</td>\n",
       "      <td>1</td>\n",
       "      <td>64</td>\n",
       "      <td>1</td>\n",
       "    </tr>\n",
       "    <tr>\n",
       "      <th>71</th>\n",
       "      <td>58</td>\n",
       "      <td>0</td>\n",
       "      <td>6.366470</td>\n",
       "      <td>1</td>\n",
       "      <td>3.555348</td>\n",
       "      <td>0</td>\n",
       "      <td>4.804021</td>\n",
       "      <td>-0.105361</td>\n",
       "      <td>4.934474</td>\n",
       "      <td>1</td>\n",
       "      <td>1</td>\n",
       "      <td>71</td>\n",
       "      <td>0</td>\n",
       "    </tr>\n",
       "    <tr>\n",
       "      <th>105</th>\n",
       "      <td>72</td>\n",
       "      <td>1</td>\n",
       "      <td>5.793014</td>\n",
       "      <td>0</td>\n",
       "      <td>3.401197</td>\n",
       "      <td>1</td>\n",
       "      <td>6.431331</td>\n",
       "      <td>0.530628</td>\n",
       "      <td>4.927254</td>\n",
       "      <td>0</td>\n",
       "      <td>1</td>\n",
       "      <td>88</td>\n",
       "      <td>1</td>\n",
       "    </tr>\n",
       "    <tr>\n",
       "      <th>109</th>\n",
       "      <td>45</td>\n",
       "      <td>0</td>\n",
       "      <td>5.676754</td>\n",
       "      <td>1</td>\n",
       "      <td>3.555348</td>\n",
       "      <td>0</td>\n",
       "      <td>6.745236</td>\n",
       "      <td>0.262364</td>\n",
       "      <td>4.955827</td>\n",
       "      <td>1</td>\n",
       "      <td>1</td>\n",
       "      <td>88</td>\n",
       "      <td>0</td>\n",
       "    </tr>\n",
       "    <tr>\n",
       "      <th>163</th>\n",
       "      <td>50</td>\n",
       "      <td>1</td>\n",
       "      <td>7.755339</td>\n",
       "      <td>1</td>\n",
       "      <td>3.555348</td>\n",
       "      <td>0</td>\n",
       "      <td>4.317488</td>\n",
       "      <td>-0.105361</td>\n",
       "      <td>4.955827</td>\n",
       "      <td>0</td>\n",
       "      <td>0</td>\n",
       "      <td>126</td>\n",
       "      <td>1</td>\n",
       "    </tr>\n",
       "    <tr>\n",
       "      <th>167</th>\n",
       "      <td>59</td>\n",
       "      <td>0</td>\n",
       "      <td>4.189655</td>\n",
       "      <td>1</td>\n",
       "      <td>2.995732</td>\n",
       "      <td>0</td>\n",
       "      <td>4.248495</td>\n",
       "      <td>0.875469</td>\n",
       "      <td>4.897840</td>\n",
       "      <td>1</td>\n",
       "      <td>0</td>\n",
       "      <td>135</td>\n",
       "      <td>1</td>\n",
       "    </tr>\n",
       "    <tr>\n",
       "      <th>176</th>\n",
       "      <td>69</td>\n",
       "      <td>0</td>\n",
       "      <td>7.257708</td>\n",
       "      <td>0</td>\n",
       "      <td>3.688879</td>\n",
       "      <td>0</td>\n",
       "      <td>4.653960</td>\n",
       "      <td>0.000000</td>\n",
       "      <td>4.905275</td>\n",
       "      <td>1</td>\n",
       "      <td>1</td>\n",
       "      <td>147</td>\n",
       "      <td>0</td>\n",
       "    </tr>\n",
       "    <tr>\n",
       "      <th>200</th>\n",
       "      <td>63</td>\n",
       "      <td>1</td>\n",
       "      <td>7.477038</td>\n",
       "      <td>0</td>\n",
       "      <td>3.806662</td>\n",
       "      <td>0</td>\n",
       "      <td>4.290459</td>\n",
       "      <td>-0.356675</td>\n",
       "      <td>4.919981</td>\n",
       "      <td>1</td>\n",
       "      <td>0</td>\n",
       "      <td>186</td>\n",
       "      <td>0</td>\n",
       "    </tr>\n",
       "    <tr>\n",
       "      <th>230</th>\n",
       "      <td>60</td>\n",
       "      <td>0</td>\n",
       "      <td>5.111988</td>\n",
       "      <td>0</td>\n",
       "      <td>3.401197</td>\n",
       "      <td>0</td>\n",
       "      <td>4.127134</td>\n",
       "      <td>0.530628</td>\n",
       "      <td>4.844187</td>\n",
       "      <td>0</td>\n",
       "      <td>0</td>\n",
       "      <td>207</td>\n",
       "      <td>1</td>\n",
       "    </tr>\n",
       "    <tr>\n",
       "      <th>240</th>\n",
       "      <td>70</td>\n",
       "      <td>0</td>\n",
       "      <td>4.394449</td>\n",
       "      <td>1</td>\n",
       "      <td>3.555348</td>\n",
       "      <td>1</td>\n",
       "      <td>6.278521</td>\n",
       "      <td>0.262364</td>\n",
       "      <td>4.934474</td>\n",
       "      <td>0</td>\n",
       "      <td>0</td>\n",
       "      <td>212</td>\n",
       "      <td>0</td>\n",
       "    </tr>\n",
       "    <tr>\n",
       "      <th>277</th>\n",
       "      <td>70</td>\n",
       "      <td>0</td>\n",
       "      <td>6.366470</td>\n",
       "      <td>1</td>\n",
       "      <td>3.637586</td>\n",
       "      <td>0</td>\n",
       "      <td>3.222868</td>\n",
       "      <td>0.095310</td>\n",
       "      <td>4.941642</td>\n",
       "      <td>1</td>\n",
       "      <td>0</td>\n",
       "      <td>246</td>\n",
       "      <td>0</td>\n",
       "    </tr>\n",
       "    <tr>\n",
       "      <th>281</th>\n",
       "      <td>70</td>\n",
       "      <td>0</td>\n",
       "      <td>6.366470</td>\n",
       "      <td>0</td>\n",
       "      <td>3.688879</td>\n",
       "      <td>0</td>\n",
       "      <td>3.931826</td>\n",
       "      <td>0.993252</td>\n",
       "      <td>4.912655</td>\n",
       "      <td>1</td>\n",
       "      <td>1</td>\n",
       "      <td>250</td>\n",
       "      <td>0</td>\n",
       "    </tr>\n",
       "    <tr>\n",
       "      <th>287</th>\n",
       "      <td>45</td>\n",
       "      <td>0</td>\n",
       "      <td>6.366470</td>\n",
       "      <td>1</td>\n",
       "      <td>4.007333</td>\n",
       "      <td>0</td>\n",
       "      <td>6.297109</td>\n",
       "      <td>0.000000</td>\n",
       "      <td>4.882802</td>\n",
       "      <td>0</td>\n",
       "      <td>0</td>\n",
       "      <td>250</td>\n",
       "      <td>0</td>\n",
       "    </tr>\n",
       "    <tr>\n",
       "      <th>296</th>\n",
       "      <td>45</td>\n",
       "      <td>0</td>\n",
       "      <td>7.630461</td>\n",
       "      <td>1</td>\n",
       "      <td>4.094345</td>\n",
       "      <td>0</td>\n",
       "      <td>6.609349</td>\n",
       "      <td>-0.223144</td>\n",
       "      <td>4.927254</td>\n",
       "      <td>0</td>\n",
       "      <td>0</td>\n",
       "      <td>278</td>\n",
       "      <td>0</td>\n",
       "    </tr>\n",
       "  </tbody>\n",
       "</table>"
      ],
      "text/plain": [
       "<IPython.core.display.HTML object>"
      ]
     },
     "metadata": {},
     "output_type": "display_data"
    },
    {
     "name": "stdout",
     "output_type": "stream",
     "text": [
      "\n",
      "platelets boxplot:\n"
     ]
    },
    {
     "data": {
      "image/png": "[encoded data removed]",
      "text/plain": [
       "<Figure size 432x288 with 1 Axes>"
      ]
     },
     "metadata": {
      "needs_background": "light"
     },
     "output_type": "display_data"
    }
   ],
   "source": [
    "investigate_outliers(all_data, 'platelets')"
   ]
  },
  {
   "cell_type": "markdown",
   "metadata": {},
   "source": [
    "### `serum_creatinine`\n",
    "This is almost the same story as `platelets` except that the deaths are greater in number and the tend is toward the upper bound instead of the lower bound.  Again, deviation is quite low."
   ]
  },
  {
   "cell_type": "code",
   "execution_count": 25,
   "metadata": {},
   "outputs": [
    {
     "name": "stdout",
     "output_type": "stream",
     "text": [
      "serum_creatinine:\n",
      "  17/299 total samples are outliers (5.69%)\n",
      "  11/17 deaths within the outliers (64.71%)\n",
      "  11/96 global deaths are from the outliers (11.46%)\n",
      "\n",
      "With outliers removed, serum_creatinine has (min=-0.69) (mean=0.12) (max: 0.99).\n",
      "Outliers and their distance from the removed mean:\n",
      "  [9] is ~2.12 from the removed mean.\n",
      "  [10] is ~1.27 from the removed mean.\n",
      "  [28] is ~1.64 from the removed mean.\n",
      "  [31] is ~0.98 from the removed mean.\n",
      "  [35] is ~1.13 from the removed mean.\n",
      "  [39] is ~0.98 from the removed mean.\n",
      "  [48] is ~1.36 from the removed mean.\n",
      "  [52] is ~1.8 from the removed mean.\n",
      "  [65] is ~0.94 from the removed mean.\n",
      "  [117] is ~1.04 from the removed mean.\n",
      "  [124] is ~1.19 from the removed mean.\n",
      "  [129] is ~1.1 from the removed mean.\n",
      "  [131] is ~1.69 from the removed mean.\n",
      "  [203] is ~1.13 from the removed mean.\n",
      "  [217] is ~2.08 from the removed mean.\n",
      "  [228] is ~1.49 from the removed mean.\n",
      "  [282] is ~1.21 from the removed mean.\n",
      "\n",
      "Raw data points:\n"
     ]
    },
    {
     "data": {
      "text/html": [
       "<table border=\"1\" class=\"dataframe\">\n",
       "  <thead>\n",
       "    <tr style=\"text-align: right;\">\n",
       "      <th></th>\n",
       "      <th>age</th>\n",
       "      <th>anaemia</th>\n",
       "      <th>creatinine_phosphokinase</th>\n",
       "      <th>diabetes</th>\n",
       "      <th>ejection_fraction</th>\n",
       "      <th>high_blood_pressure</th>\n",
       "      <th>platelets</th>\n",
       "      <th>serum_creatinine</th>\n",
       "      <th>serum_sodium</th>\n",
       "      <th>sex</th>\n",
       "      <th>smoking</th>\n",
       "      <th>time</th>\n",
       "      <th>DEATH_EVENT</th>\n",
       "    </tr>\n",
       "  </thead>\n",
       "  <tbody>\n",
       "    <tr>\n",
       "      <th>9</th>\n",
       "      <td>80</td>\n",
       "      <td>1</td>\n",
       "      <td>4.812184</td>\n",
       "      <td>0</td>\n",
       "      <td>3.555348</td>\n",
       "      <td>1</td>\n",
       "      <td>5.961005</td>\n",
       "      <td>2.240710</td>\n",
       "      <td>4.890349</td>\n",
       "      <td>1</td>\n",
       "      <td>1</td>\n",
       "      <td>10</td>\n",
       "      <td>1</td>\n",
       "    </tr>\n",
       "    <tr>\n",
       "      <th>10</th>\n",
       "      <td>75</td>\n",
       "      <td>1</td>\n",
       "      <td>4.394449</td>\n",
       "      <td>0</td>\n",
       "      <td>3.637586</td>\n",
       "      <td>1</td>\n",
       "      <td>5.908083</td>\n",
       "      <td>1.386294</td>\n",
       "      <td>4.875197</td>\n",
       "      <td>1</td>\n",
       "      <td>1</td>\n",
       "      <td>10</td>\n",
       "      <td>1</td>\n",
       "    </tr>\n",
       "    <tr>\n",
       "      <th>28</th>\n",
       "      <td>58</td>\n",
       "      <td>1</td>\n",
       "      <td>4.094345</td>\n",
       "      <td>0</td>\n",
       "      <td>3.637586</td>\n",
       "      <td>0</td>\n",
       "      <td>5.030438</td>\n",
       "      <td>1.757858</td>\n",
       "      <td>4.897840</td>\n",
       "      <td>1</td>\n",
       "      <td>0</td>\n",
       "      <td>26</td>\n",
       "      <td>1</td>\n",
       "    </tr>\n",
       "    <tr>\n",
       "      <th>31</th>\n",
       "      <td>85</td>\n",
       "      <td>0</td>\n",
       "      <td>3.135494</td>\n",
       "      <td>0</td>\n",
       "      <td>3.806662</td>\n",
       "      <td>0</td>\n",
       "      <td>5.886104</td>\n",
       "      <td>1.098612</td>\n",
       "      <td>4.882802</td>\n",
       "      <td>1</td>\n",
       "      <td>0</td>\n",
       "      <td>28</td>\n",
       "      <td>1</td>\n",
       "    </tr>\n",
       "    <tr>\n",
       "      <th>35</th>\n",
       "      <td>69</td>\n",
       "      <td>0</td>\n",
       "      <td>6.366470</td>\n",
       "      <td>1</td>\n",
       "      <td>3.555348</td>\n",
       "      <td>0</td>\n",
       "      <td>5.429346</td>\n",
       "      <td>1.252763</td>\n",
       "      <td>4.897840</td>\n",
       "      <td>1</td>\n",
       "      <td>0</td>\n",
       "      <td>30</td>\n",
       "      <td>1</td>\n",
       "    </tr>\n",
       "    <tr>\n",
       "      <th>39</th>\n",
       "      <td>60</td>\n",
       "      <td>0</td>\n",
       "      <td>5.459586</td>\n",
       "      <td>1</td>\n",
       "      <td>3.637586</td>\n",
       "      <td>0</td>\n",
       "      <td>5.796058</td>\n",
       "      <td>1.098612</td>\n",
       "      <td>4.955827</td>\n",
       "      <td>0</td>\n",
       "      <td>0</td>\n",
       "      <td>30</td>\n",
       "      <td>1</td>\n",
       "    </tr>\n",
       "    <tr>\n",
       "      <th>48</th>\n",
       "      <td>80</td>\n",
       "      <td>1</td>\n",
       "      <td>6.315358</td>\n",
       "      <td>0</td>\n",
       "      <td>2.995732</td>\n",
       "      <td>1</td>\n",
       "      <td>4.941642</td>\n",
       "      <td>1.481605</td>\n",
       "      <td>4.890349</td>\n",
       "      <td>1</td>\n",
       "      <td>0</td>\n",
       "      <td>41</td>\n",
       "      <td>1</td>\n",
       "    </tr>\n",
       "    <tr>\n",
       "      <th>52</th>\n",
       "      <td>60</td>\n",
       "      <td>0</td>\n",
       "      <td>8.285009</td>\n",
       "      <td>1</td>\n",
       "      <td>4.127134</td>\n",
       "      <td>0</td>\n",
       "      <td>5.573514</td>\n",
       "      <td>1.916923</td>\n",
       "      <td>4.983607</td>\n",
       "      <td>0</td>\n",
       "      <td>0</td>\n",
       "      <td>43</td>\n",
       "      <td>1</td>\n",
       "    </tr>\n",
       "    <tr>\n",
       "      <th>65</th>\n",
       "      <td>60</td>\n",
       "      <td>0</td>\n",
       "      <td>4.219508</td>\n",
       "      <td>0</td>\n",
       "      <td>2.995732</td>\n",
       "      <td>0</td>\n",
       "      <td>4.779123</td>\n",
       "      <td>1.064711</td>\n",
       "      <td>4.844187</td>\n",
       "      <td>1</td>\n",
       "      <td>1</td>\n",
       "      <td>64</td>\n",
       "      <td>1</td>\n",
       "    </tr>\n",
       "    <tr>\n",
       "      <th>117</th>\n",
       "      <td>85</td>\n",
       "      <td>1</td>\n",
       "      <td>4.624973</td>\n",
       "      <td>0</td>\n",
       "      <td>4.094345</td>\n",
       "      <td>0</td>\n",
       "      <td>6.228511</td>\n",
       "      <td>1.163151</td>\n",
       "      <td>4.927254</td>\n",
       "      <td>0</td>\n",
       "      <td>0</td>\n",
       "      <td>94</td>\n",
       "      <td>0</td>\n",
       "    </tr>\n",
       "    <tr>\n",
       "      <th>124</th>\n",
       "      <td>60</td>\n",
       "      <td>0</td>\n",
       "      <td>6.366470</td>\n",
       "      <td>0</td>\n",
       "      <td>3.688879</td>\n",
       "      <td>0</td>\n",
       "      <td>5.379897</td>\n",
       "      <td>1.308333</td>\n",
       "      <td>4.897840</td>\n",
       "      <td>1</td>\n",
       "      <td>0</td>\n",
       "      <td>96</td>\n",
       "      <td>1</td>\n",
       "    </tr>\n",
       "    <tr>\n",
       "      <th>129</th>\n",
       "      <td>53</td>\n",
       "      <td>1</td>\n",
       "      <td>5.598422</td>\n",
       "      <td>1</td>\n",
       "      <td>3.555348</td>\n",
       "      <td>0</td>\n",
       "      <td>5.424950</td>\n",
       "      <td>1.223775</td>\n",
       "      <td>4.976734</td>\n",
       "      <td>1</td>\n",
       "      <td>0</td>\n",
       "      <td>105</td>\n",
       "      <td>0</td>\n",
       "    </tr>\n",
       "    <tr>\n",
       "      <th>131</th>\n",
       "      <td>60</td>\n",
       "      <td>1</td>\n",
       "      <td>6.986566</td>\n",
       "      <td>1</td>\n",
       "      <td>3.806662</td>\n",
       "      <td>0</td>\n",
       "      <td>5.521461</td>\n",
       "      <td>1.808289</td>\n",
       "      <td>4.875197</td>\n",
       "      <td>1</td>\n",
       "      <td>0</td>\n",
       "      <td>107</td>\n",
       "      <td>0</td>\n",
       "    </tr>\n",
       "    <tr>\n",
       "      <th>203</th>\n",
       "      <td>60</td>\n",
       "      <td>0</td>\n",
       "      <td>4.077537</td>\n",
       "      <td>0</td>\n",
       "      <td>3.218876</td>\n",
       "      <td>1</td>\n",
       "      <td>5.356586</td>\n",
       "      <td>1.252763</td>\n",
       "      <td>4.912655</td>\n",
       "      <td>1</td>\n",
       "      <td>1</td>\n",
       "      <td>187</td>\n",
       "      <td>0</td>\n",
       "    </tr>\n",
       "    <tr>\n",
       "      <th>217</th>\n",
       "      <td>54</td>\n",
       "      <td>1</td>\n",
       "      <td>6.056784</td>\n",
       "      <td>0</td>\n",
       "      <td>4.248495</td>\n",
       "      <td>1</td>\n",
       "      <td>5.017280</td>\n",
       "      <td>2.197225</td>\n",
       "      <td>4.919981</td>\n",
       "      <td>0</td>\n",
       "      <td>0</td>\n",
       "      <td>196</td>\n",
       "      <td>1</td>\n",
       "    </tr>\n",
       "    <tr>\n",
       "      <th>228</th>\n",
       "      <td>65</td>\n",
       "      <td>0</td>\n",
       "      <td>4.025352</td>\n",
       "      <td>0</td>\n",
       "      <td>3.218876</td>\n",
       "      <td>0</td>\n",
       "      <td>5.468060</td>\n",
       "      <td>1.609438</td>\n",
       "      <td>4.867534</td>\n",
       "      <td>0</td>\n",
       "      <td>0</td>\n",
       "      <td>207</td>\n",
       "      <td>0</td>\n",
       "    </tr>\n",
       "    <tr>\n",
       "      <th>282</th>\n",
       "      <td>42</td>\n",
       "      <td>0</td>\n",
       "      <td>4.158883</td>\n",
       "      <td>0</td>\n",
       "      <td>3.401197</td>\n",
       "      <td>0</td>\n",
       "      <td>5.370638</td>\n",
       "      <td>1.335001</td>\n",
       "      <td>4.852030</td>\n",
       "      <td>1</td>\n",
       "      <td>1</td>\n",
       "      <td>250</td>\n",
       "      <td>0</td>\n",
       "    </tr>\n",
       "  </tbody>\n",
       "</table>"
      ],
      "text/plain": [
       "<IPython.core.display.HTML object>"
      ]
     },
     "metadata": {},
     "output_type": "display_data"
    },
    {
     "name": "stdout",
     "output_type": "stream",
     "text": [
      "\n",
      "serum_creatinine boxplot:\n"
     ]
    },
    {
     "data": {
      "image/png": "[encoded data removed]",
      "text/plain": [
       "<Figure size 432x288 with 1 Axes>"
      ]
     },
     "metadata": {
      "needs_background": "light"
     },
     "output_type": "display_data"
    }
   ],
   "source": [
    "investigate_outliers(all_data, 'serum_creatinine')"
   ]
  },
  {
   "cell_type": "markdown",
   "metadata": {},
   "source": [
    "### `serum_sodium`\n",
    "As with the first two sets of outliers, they contribute a little to the global score and do not deviate much."
   ]
  },
  {
   "cell_type": "code",
   "execution_count": 26,
   "metadata": {},
   "outputs": [
    {
     "name": "stdout",
     "output_type": "stream",
     "text": [
      "serum_sodium:\n",
      "  5/299 total samples are outliers (1.67%)\n",
      "  3/5 deaths within the outliers (60.0%)\n",
      "  3/96 global deaths are from the outliers (3.12%)\n",
      "\n",
      "With outliers removed, serum_sodium has (min=4.84) (mean=4.92) (max: 5.0).\n",
      "Outliers and their distance from the removed mean:\n",
      "  [4] is ~0.17 from the removed mean.\n",
      "  [19] is ~0.12 from the removed mean.\n",
      "  [126] is ~0.1 from the removed mean.\n",
      "  [199] is ~0.19 from the removed mean.\n",
      "  [225] is ~0.09 from the removed mean.\n",
      "\n",
      "Raw data points:\n"
     ]
    },
    {
     "data": {
      "text/html": [
       "<table border=\"1\" class=\"dataframe\">\n",
       "  <thead>\n",
       "    <tr style=\"text-align: right;\">\n",
       "      <th></th>\n",
       "      <th>age</th>\n",
       "      <th>anaemia</th>\n",
       "      <th>creatinine_phosphokinase</th>\n",
       "      <th>diabetes</th>\n",
       "      <th>ejection_fraction</th>\n",
       "      <th>high_blood_pressure</th>\n",
       "      <th>platelets</th>\n",
       "      <th>serum_creatinine</th>\n",
       "      <th>serum_sodium</th>\n",
       "      <th>sex</th>\n",
       "      <th>smoking</th>\n",
       "      <th>time</th>\n",
       "      <th>DEATH_EVENT</th>\n",
       "    </tr>\n",
       "  </thead>\n",
       "  <tbody>\n",
       "    <tr>\n",
       "      <th>4</th>\n",
       "      <td>65</td>\n",
       "      <td>1</td>\n",
       "      <td>5.075174</td>\n",
       "      <td>1</td>\n",
       "      <td>2.995732</td>\n",
       "      <td>0</td>\n",
       "      <td>5.789960</td>\n",
       "      <td>0.993252</td>\n",
       "      <td>4.753590</td>\n",
       "      <td>0</td>\n",
       "      <td>0</td>\n",
       "      <td>8</td>\n",
       "      <td>1</td>\n",
       "    </tr>\n",
       "    <tr>\n",
       "      <th>19</th>\n",
       "      <td>48</td>\n",
       "      <td>1</td>\n",
       "      <td>6.366470</td>\n",
       "      <td>1</td>\n",
       "      <td>4.007333</td>\n",
       "      <td>0</td>\n",
       "      <td>4.465908</td>\n",
       "      <td>0.641854</td>\n",
       "      <td>4.795791</td>\n",
       "      <td>0</td>\n",
       "      <td>0</td>\n",
       "      <td>15</td>\n",
       "      <td>1</td>\n",
       "    </tr>\n",
       "    <tr>\n",
       "      <th>126</th>\n",
       "      <td>46</td>\n",
       "      <td>0</td>\n",
       "      <td>5.123964</td>\n",
       "      <td>1</td>\n",
       "      <td>2.833213</td>\n",
       "      <td>1</td>\n",
       "      <td>5.602119</td>\n",
       "      <td>0.741937</td>\n",
       "      <td>4.820282</td>\n",
       "      <td>0</td>\n",
       "      <td>0</td>\n",
       "      <td>100</td>\n",
       "      <td>1</td>\n",
       "    </tr>\n",
       "    <tr>\n",
       "      <th>199</th>\n",
       "      <td>60</td>\n",
       "      <td>0</td>\n",
       "      <td>7.099202</td>\n",
       "      <td>1</td>\n",
       "      <td>3.555348</td>\n",
       "      <td>0</td>\n",
       "      <td>5.573514</td>\n",
       "      <td>0.587787</td>\n",
       "      <td>4.727388</td>\n",
       "      <td>1</td>\n",
       "      <td>1</td>\n",
       "      <td>186</td>\n",
       "      <td>0</td>\n",
       "    </tr>\n",
       "    <tr>\n",
       "      <th>225</th>\n",
       "      <td>75</td>\n",
       "      <td>0</td>\n",
       "      <td>6.514713</td>\n",
       "      <td>1</td>\n",
       "      <td>4.094345</td>\n",
       "      <td>0</td>\n",
       "      <td>5.579730</td>\n",
       "      <td>0.336472</td>\n",
       "      <td>4.828314</td>\n",
       "      <td>0</td>\n",
       "      <td>0</td>\n",
       "      <td>205</td>\n",
       "      <td>0</td>\n",
       "    </tr>\n",
       "  </tbody>\n",
       "</table>"
      ],
      "text/plain": [
       "<IPython.core.display.HTML object>"
      ]
     },
     "metadata": {},
     "output_type": "display_data"
    },
    {
     "name": "stdout",
     "output_type": "stream",
     "text": [
      "\n",
      "serum_sodium boxplot:\n"
     ]
    },
    {
     "data": {
      "image/png": "[encoded data removed]",
      "text/plain": [
       "<Figure size 432x288 with 1 Axes>"
      ]
     },
     "metadata": {
      "needs_background": "light"
     },
     "output_type": "display_data"
    }
   ],
   "source": [
    "investigate_outliers(all_data, 'serum_sodium')"
   ]
  },
  {
   "cell_type": "markdown",
   "metadata": {},
   "source": [
    "Overall, especially with a larger dataset, all of these outliers could be considered in more detail.  I'd have to also research the individual medical concepts in more detail to have a better judgment too.\n",
    "\n",
    "Given the small sample size, it is difficult to determine if they are truly erroneous or genuine variation that humans are able to experience with a lower probability."
   ]
  },
  {
   "cell_type": "markdown",
   "metadata": {},
   "source": [
    "## Target Variable Impact"
   ]
  },
  {
   "cell_type": "markdown",
   "metadata": {},
   "source": [
    "### `DEATH_EVENT` Balance\n",
    "A total of ~32% of the samples resulted in death.  That's almost a 30/70 split, which isn't *terrible* but definitely isn't great.  The best option here is to use some kind of resampling method, but that would be in our machine learning script, not in the EDA.  Since the data isn't horribly unbalanced (like in fraud detection), I'll likely leave it at first and consider it later."
   ]
  },
  {
   "cell_type": "code",
   "execution_count": 27,
   "metadata": {},
   "outputs": [
    {
     "name": "stdout",
     "output_type": "stream",
     "text": [
      "96/299 samples died (32.11%).\n"
     ]
    }
   ],
   "source": [
    "total_deaths = sum(all_data['DEATH_EVENT'] == 1)\n",
    "total_deaths_pct = round((total_deaths / len(all_data))*100, 2)\n",
    "print(f'{total_deaths}/{len(all_data)} samples died ({total_deaths_pct}%).')"
   ]
  },
  {
   "cell_type": "code",
   "execution_count": 28,
   "metadata": {},
   "outputs": [
    {
     "data": {
      "image/png": "[encoded data removed]",
      "text/plain": [
       "<Figure size 432x288 with 1 Axes>"
      ]
     },
     "metadata": {
      "needs_background": "light"
     },
     "output_type": "display_data"
    }
   ],
   "source": [
    "sns.countplot(data=all_data, x='DEATH_EVENT')\n",
    "plt.show()"
   ]
  },
  {
   "cell_type": "markdown",
   "metadata": {},
   "source": [
    "### Feature Selection\n",
    "Before wrapping up the EDA, I want to choose what variables could be used in the machine learning model.  There are many ways to do this, but generally speaking, we want to keep the model simple, ensure the input data is of quality, and generally keep dimensionality low (which helps to avoid overfitting)."
   ]
  },
  {
   "cell_type": "markdown",
   "metadata": {},
   "source": [
    "#### Version 1: Recursive Feature Elimination\n",
    "Firstly trying the more advanced method of using a model to recursively disregard features and retain only the important ones.  This code is partially lifted from the [official docs](https://scikit-learn.org/stable/modules/generated/sklearn.feature_selection.RFE.html).\n",
    "\n",
    "This resulted in `ejection_fraction`, `serum_creatinine`, and `time` being selected.  The paper mentions how they disregarded `time` as they wanted to focus on clinical features, and that they show the correlation, while present, is an impossibility in regard to the target feature, so we can ignore it."
   ]
  },
  {
   "cell_type": "code",
   "execution_count": 29,
   "metadata": {},
   "outputs": [
    {
     "name": "stdout",
     "output_type": "stream",
     "text": [
      "The top 3 are ejection_fraction, serum_creatinine, time\n"
     ]
    }
   ],
   "source": [
    "from sklearn.feature_selection import RFE\n",
    "from sklearn.svm import SVR\n",
    "from sklearn.preprocessing import StandardScaler\n",
    "\n",
    "X = all_data.drop('DEATH_EVENT', axis=1)\n",
    "y = all_data['DEATH_EVENT']\n",
    "\n",
    "# Normalize the data before running it through a model.\n",
    "scaler = StandardScaler()\n",
    "X_norm = scaler.fit_transform(X, y)\n",
    "\n",
    "# Recursively get the 'best features'.\n",
    "num_features = 3 # Arbitrarily chosen.\n",
    "rfe = RFE(SVR(kernel='linear'), n_features_to_select=num_features, step=1)\n",
    "rfe.fit(X_norm, y)\n",
    "\n",
    "print(f'The top {num_features} are ', end='')\n",
    "print(', '.join(X.loc[:, rfe.support_].columns))"
   ]
  },
  {
   "cell_type": "markdown",
   "metadata": {},
   "source": [
    "#### Version 2: Pearson's Correlation\n",
    "My personal favorite (colorful graphs!) is using Pearson's correlation of predictors against the target variable and then extracting the highest values.\n",
    "\n",
    "Looking at this lovely chart, `time` is up there at the top, followed by `serum_creatinine`, `ejection_fraction`, and `age` if we add one more.  This is in line with the RFE method, so that's good news!"
   ]
  },
  {
   "cell_type": "code",
   "execution_count": 30,
   "metadata": {
    "scrolled": false
   },
   "outputs": [
    {
     "data": {
      "image/png": "[encoded data removed]",
      "text/plain": [
       "<Figure size 1080x1080 with 2 Axes>"
      ]
     },
     "metadata": {
      "needs_background": "light"
     },
     "output_type": "display_data"
    }
   ],
   "source": [
    "corr = all_data.corr()\n",
    "fig, ax = plt.subplots(figsize=(15, 15))\n",
    "cmap = sns.diverging_palette(220, 10, as_cmap=True)\n",
    "sns.heatmap(corr, cmap=cmap, annot=True, fmt='.2f')\n",
    "plt.xticks(range(len(corr.columns)), corr.columns)\n",
    "plt.yticks(range(len(corr.columns)), corr.columns)\n",
    "plt.show()"
   ]
  },
  {
   "cell_type": "markdown",
   "metadata": {},
   "source": [
    "### Selected Predictors vs. Target\n",
    "The selected variables are `serum_creatinine` and `ejection_fraction`."
   ]
  },
  {
   "cell_type": "code",
   "execution_count": 31,
   "metadata": {},
   "outputs": [],
   "source": [
    "def investigate_vs_target(df, col):\n",
    "    print(f'Statistics for {col}:')\n",
    "    df_survived = df[df['DEATH_EVENT']==0][col]\n",
    "    df_died = df[df['DEATH_EVENT']==1][col]\n",
    "    stat = pd.DataFrame({\n",
    "        'survived': df_survived.describe(),\n",
    "        'died': df_died.describe()\n",
    "    })\n",
    "    display(HTML(stat.to_html()))\n",
    "    \n",
    "    sns.stripplot(data=df, x='DEATH_EVENT', y=col)\n",
    "    plt.show()"
   ]
  },
  {
   "cell_type": "markdown",
   "metadata": {},
   "source": [
    "Looking at `serum_creatinine`, it appears that those that died tended toward higher values, and those that survived are generally grouped toward the bottom.  There are outliers in those that survived that rival the higher levels found in those who died, but this is expected and demonstrates that this value alone isn't responsible but contributes to the chance of death.\n",
    "\n",
    "Based on my *very* limited knowledge of this subject (basically from the papers and Googling), high values are bad.  As the paper states, *if a patient has high levels of serum creatinine, it may indicate renal dysfunction*, which isn't something that's desirable.  "
   ]
  },
  {
   "cell_type": "code",
   "execution_count": 32,
   "metadata": {},
   "outputs": [
    {
     "name": "stdout",
     "output_type": "stream",
     "text": [
      "Statistics for serum_creatinine:\n"
     ]
    },
    {
     "data": {
      "text/html": [
       "<table border=\"1\" class=\"dataframe\">\n",
       "  <thead>\n",
       "    <tr style=\"text-align: right;\">\n",
       "      <th></th>\n",
       "      <th>survived</th>\n",
       "      <th>died</th>\n",
       "    </tr>\n",
       "  </thead>\n",
       "  <tbody>\n",
       "    <tr>\n",
       "      <th>count</th>\n",
       "      <td>203.000000</td>\n",
       "      <td>96.000000</td>\n",
       "    </tr>\n",
       "    <tr>\n",
       "      <th>mean</th>\n",
       "      <td>0.086507</td>\n",
       "      <td>0.435589</td>\n",
       "    </tr>\n",
       "    <tr>\n",
       "      <th>std</th>\n",
       "      <td>0.364838</td>\n",
       "      <td>0.526672</td>\n",
       "    </tr>\n",
       "    <tr>\n",
       "      <th>min</th>\n",
       "      <td>-0.693147</td>\n",
       "      <td>-0.510826</td>\n",
       "    </tr>\n",
       "    <tr>\n",
       "      <th>25%</th>\n",
       "      <td>-0.105361</td>\n",
       "      <td>0.071483</td>\n",
       "    </tr>\n",
       "    <tr>\n",
       "      <th>50%</th>\n",
       "      <td>0.000000</td>\n",
       "      <td>0.262364</td>\n",
       "    </tr>\n",
       "    <tr>\n",
       "      <th>75%</th>\n",
       "      <td>0.182322</td>\n",
       "      <td>0.641854</td>\n",
       "    </tr>\n",
       "    <tr>\n",
       "      <th>max</th>\n",
       "      <td>1.808289</td>\n",
       "      <td>2.240710</td>\n",
       "    </tr>\n",
       "  </tbody>\n",
       "</table>"
      ],
      "text/plain": [
       "<IPython.core.display.HTML object>"
      ]
     },
     "metadata": {},
     "output_type": "display_data"
    },
    {
     "data": {
      "image/png": "[encoded data removed]",
      "text/plain": [
       "<Figure size 432x288 with 1 Axes>"
      ]
     },
     "metadata": {
      "needs_background": "light"
     },
     "output_type": "display_data"
    }
   ],
   "source": [
    "investigate_vs_target(all_data, 'serum_creatinine')"
   ]
  },
  {
   "cell_type": "markdown",
   "metadata": {},
   "source": [
    "There's a similar story with `ejection_fraction`.  This represents the *percentage of blood leaving the heart at each contraction*.  Naturally, you don't want this to be low.  While the values tend to be quite similar for those who died and those who survived, there is a general tendency for those who died toward lower values, which is obviously not good news."
   ]
  },
  {
   "cell_type": "code",
   "execution_count": 33,
   "metadata": {
    "scrolled": false
   },
   "outputs": [
    {
     "name": "stdout",
     "output_type": "stream",
     "text": [
      "Statistics for ejection_fraction:\n"
     ]
    },
    {
     "data": {
      "text/html": [
       "<table border=\"1\" class=\"dataframe\">\n",
       "  <thead>\n",
       "    <tr style=\"text-align: right;\">\n",
       "      <th></th>\n",
       "      <th>survived</th>\n",
       "      <th>died</th>\n",
       "    </tr>\n",
       "  </thead>\n",
       "  <tbody>\n",
       "    <tr>\n",
       "      <th>count</th>\n",
       "      <td>203.000000</td>\n",
       "      <td>96.000000</td>\n",
       "    </tr>\n",
       "    <tr>\n",
       "      <th>mean</th>\n",
       "      <td>3.660287</td>\n",
       "      <td>3.443983</td>\n",
       "    </tr>\n",
       "    <tr>\n",
       "      <th>std</th>\n",
       "      <td>0.266302</td>\n",
       "      <td>0.366672</td>\n",
       "    </tr>\n",
       "    <tr>\n",
       "      <th>min</th>\n",
       "      <td>2.833213</td>\n",
       "      <td>2.639057</td>\n",
       "    </tr>\n",
       "    <tr>\n",
       "      <th>25%</th>\n",
       "      <td>3.555348</td>\n",
       "      <td>3.218876</td>\n",
       "    </tr>\n",
       "    <tr>\n",
       "      <th>50%</th>\n",
       "      <td>3.637586</td>\n",
       "      <td>3.401197</td>\n",
       "    </tr>\n",
       "    <tr>\n",
       "      <th>75%</th>\n",
       "      <td>3.806662</td>\n",
       "      <td>3.637586</td>\n",
       "    </tr>\n",
       "    <tr>\n",
       "      <th>max</th>\n",
       "      <td>4.382027</td>\n",
       "      <td>4.248495</td>\n",
       "    </tr>\n",
       "  </tbody>\n",
       "</table>"
      ],
      "text/plain": [
       "<IPython.core.display.HTML object>"
      ]
     },
     "metadata": {},
     "output_type": "display_data"
    },
    {
     "data": {
      "image/png": "[encoded data removed]",
      "text/plain": [
       "<Figure size 432x288 with 1 Axes>"
      ]
     },
     "metadata": {
      "needs_background": "light"
     },
     "output_type": "display_data"
    }
   ],
   "source": [
    "investigate_vs_target(all_data, 'ejection_fraction')"
   ]
  },
  {
   "cell_type": "markdown",
   "metadata": {},
   "source": [
    "## Export Data\n",
    "With all of this done, let's export to CSV!\n",
    "\n",
    "As a reminder, we have:\n",
    "\n",
    "* Changed the datatypes of and rounded `age` and `platelets`.\n",
    "* Applied a `np.log` to `creatinine_phosphokinase`, `serum_creatinine`, `platelets`, `ejection_fraction`, and `serum_sodium`."
   ]
  },
  {
   "cell_type": "code",
   "execution_count": 34,
   "metadata": {},
   "outputs": [],
   "source": [
    "all_data.to_csv('./data/cleaned.csv', index=False)"
   ]
  }
 ],
 "metadata": {
  "kernelspec": {
   "display_name": "Python 3",
   "language": "python",
   "name": "python3"
  },
  "language_info": {
   "codemirror_mode": {
    "name": "ipython",
    "version": 3
   },
   "file_extension": ".py",
   "mimetype": "text/x-python",
   "name": "python",
   "nbconvert_exporter": "python",
   "pygments_lexer": "ipython3",
   "version": "3.7.4"
  }
 },
 "nbformat": 4,
 "nbformat_minor": 4
}
