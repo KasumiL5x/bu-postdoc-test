{
 "cells": [
  {
   "cell_type": "markdown",
   "metadata": {},
   "source": [
    "# Heart Failure Clinical Records\n",
    "This notebook will perform some essential EDA and cleaning for the input data.  The data will be exported after it has been cleaned to be used in the model."
   ]
  },
  {
   "cell_type": "markdown",
   "metadata": {},
   "source": [
    "## Introduction\n",
    "\n",
    "The data comes from the [UCL Machine Learning Repository](https://archive.ics.uci.edu/ml/datasets/Heart+failure+clinical+records#).  It contains medical records of 299 patients who had heart failure and consists of 13 clinical features.  There is also an [academic paper](https://doi.org/10.1186/s12911-020-1023-5) associated with this data, which is in fact based upon an [older paper](https://doi.org/10.1371/journal.pone.0181001).  Both of these papers provide significant detail about what the clinical features mean.\n",
    "\n",
    "In this case, the challenge is to predict the `DEATH_EVENT` of a patient as a boolean (in the form of `0` or `1`).  The complete features present in the data are:\n",
    "\n",
    "* `age` — Age of the patient (years).\n",
    "* `anaemia` — Decrease of red blood cells or hemoglobin (boolean).\n",
    "* `high_blood_pressure` — If the patient has hypertension (boolean).\n",
    "* `creatinine_phosphokinase` — Level of the CPK enzyme in the blood (mcg/L).\n",
    "* `diabetes` — If the patient has diabetes (boolean).\n",
    "* `ejection_fraction` — Percentage of blood leaving the heart at each contraction (percentage/100).\n",
    "* `platelets` — Platelets in the blood (kiloplatelets/mL).\n",
    "* `sex` — Woman or man (binary).\n",
    "* `serum_creatinine` — Level of serum creatinine in the blood (mg/dL).\n",
    "* `serum_sodium` — Level of serum sodium in the blood (mEq/L).\n",
    "* `smoking` — If the patient smokes or not (boolean).\n",
    "* `time` — Follow-up period (days).\n",
    "* `DEATH_EVENT` — If the patient deceased during the follow-up period (boolean).\n",
    "\n",
    "The newer paper that this data is based upon suggests that using only `ejection_fraction` and `serum_creatinine` can result in an accuracy of ~0.838 (among other measurements)."
   ]
  },
  {
   "cell_type": "markdown",
   "metadata": {},
   "source": [
    "## Preparation"
   ]
  },
  {
   "cell_type": "code",
   "execution_count": 1,
   "metadata": {},
   "outputs": [],
   "source": [
    "import pandas as pd\n",
    "import numpy as np\n",
    "import matplotlib.pyplot as plt\n",
    "%matplotlib inline\n",
    "import seaborn as sns\n",
    "\n",
    "all_data = pd.read_csv('./data/heart_failure_clinical_records_dataset.csv')"
   ]
  },
  {
   "cell_type": "markdown",
   "metadata": {},
   "source": [
    "# TODO\n",
    "1. A quick browse of what's available.\n",
    "2. Any nulls?\n",
    "3. Check ranges; do they make sense?\n",
    "4. Check and fix data types.\n",
    "5. Check for duplicates.\n",
    "6. Investigate any outliers.\n",
    "7. Balance of data for target variable.\n",
    "8. Correlation investigation for potential feature selection.\n",
    "8. Skewness of variables of interest (and any possible transformations)."
   ]
  },
  {
   "cell_type": "code",
   "execution_count": null,
   "metadata": {},
   "outputs": [],
   "source": []
  }
 ],
 "metadata": {
  "kernelspec": {
   "display_name": "Python 3",
   "language": "python",
   "name": "python3"
  },
  "language_info": {
   "codemirror_mode": {
    "name": "ipython",
    "version": 3
   },
   "file_extension": ".py",
   "mimetype": "text/x-python",
   "name": "python",
   "nbconvert_exporter": "python",
   "pygments_lexer": "ipython3",
   "version": "3.7.4"
  }
 },
 "nbformat": 4,
 "nbformat_minor": 4
}
