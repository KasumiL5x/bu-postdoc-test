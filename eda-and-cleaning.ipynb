{
 "cells": [
  {
   "cell_type": "markdown",
   "metadata": {},
   "source": [
    "# Heart Failure Clinical Records\n",
    "This notebook will perform some essential EDA and cleaning for the input data.  The data will be exported after it has been cleaned to be used in the model."
   ]
  },
  {
   "cell_type": "markdown",
   "metadata": {},
   "source": [
    "## Introduction\n",
    "\n",
    "The data comes from the [UCL Machine Learning Repository](https://archive.ics.uci.edu/ml/datasets/Heart+failure+clinical+records#).  It contains medical records of 299 patients who had heart failure and consists of 13 clinical features.  There is also an [academic paper](https://doi.org/10.1186/s12911-020-1023-5) associated with this data, which is in fact based upon an [older paper](https://doi.org/10.1371/journal.pone.0181001).  Both of these papers provide significant detail about what the clinical features mean.\n",
    "\n",
    "In this case, the challenge is to predict the `DEATH_EVENT` of a patient as a boolean (in the form of `0` or `1`).  The complete features present in the data are:\n",
    "\n",
    "* `age` — Age of the patient (years).\n",
    "* `anaemia` — Decrease of red blood cells or hemoglobin (boolean).\n",
    "* `high_blood_pressure` — If the patient has hypertension (boolean).\n",
    "* `creatinine_phosphokinase` — Level of the CPK enzyme in the blood (mcg/L).\n",
    "* `diabetes` — If the patient has diabetes (boolean).\n",
    "* `ejection_fraction` — Percentage of blood leaving the heart at each contraction (percentage/100).\n",
    "* `platelets` — Platelets in the blood (kiloplatelets/mL).\n",
    "* `sex` — Woman or man (binary).\n",
    "* `serum_creatinine` — Level of serum creatinine in the blood (mg/dL).\n",
    "* `serum_sodium` — Level of serum sodium in the blood (mEq/L).\n",
    "* `smoking` — If the patient smokes or not (boolean).\n",
    "* `time` — Follow-up period (days).\n",
    "* `DEATH_EVENT` — If the patient deceased during the follow-up period (boolean).\n",
    "\n",
    "The newer paper that this data is based upon suggests that using only `ejection_fraction` and `serum_creatinine` can result in an accuracy of ~0.838 (among other measurements)."
   ]
  },
  {
   "cell_type": "markdown",
   "metadata": {},
   "source": [
    "## Preparation"
   ]
  },
  {
   "cell_type": "code",
   "execution_count": 1,
   "metadata": {},
   "outputs": [],
   "source": [
    "import pandas as pd\n",
    "from IPython.display import display, HTML\n",
    "import numpy as np\n",
    "from scipy import stats\n",
    "import matplotlib.pyplot as plt\n",
    "%matplotlib inline\n",
    "import seaborn as sns\n",
    "\n",
    "all_data = pd.read_csv('./data/heart_failure_clinical_records_dataset.csv')"
   ]
  },
  {
   "cell_type": "markdown",
   "metadata": {},
   "source": [
    "## Data Overview\n",
    "Let's firstly have a browse of the data just to see what is present."
   ]
  },
  {
   "cell_type": "code",
   "execution_count": 2,
   "metadata": {},
   "outputs": [
    {
     "data": {
      "text/html": [
       "<div>\n",
       "<style scoped>\n",
       "    .dataframe tbody tr th:only-of-type {\n",
       "        vertical-align: middle;\n",
       "    }\n",
       "\n",
       "    .dataframe tbody tr th {\n",
       "        vertical-align: top;\n",
       "    }\n",
       "\n",
       "    .dataframe thead th {\n",
       "        text-align: right;\n",
       "    }\n",
       "</style>\n",
       "<table border=\"1\" class=\"dataframe\">\n",
       "  <thead>\n",
       "    <tr style=\"text-align: right;\">\n",
       "      <th></th>\n",
       "      <th>age</th>\n",
       "      <th>anaemia</th>\n",
       "      <th>creatinine_phosphokinase</th>\n",
       "      <th>diabetes</th>\n",
       "      <th>ejection_fraction</th>\n",
       "      <th>high_blood_pressure</th>\n",
       "      <th>platelets</th>\n",
       "      <th>serum_creatinine</th>\n",
       "      <th>serum_sodium</th>\n",
       "      <th>sex</th>\n",
       "      <th>smoking</th>\n",
       "      <th>time</th>\n",
       "      <th>DEATH_EVENT</th>\n",
       "    </tr>\n",
       "  </thead>\n",
       "  <tbody>\n",
       "    <tr>\n",
       "      <th>0</th>\n",
       "      <td>75.0</td>\n",
       "      <td>0</td>\n",
       "      <td>582</td>\n",
       "      <td>0</td>\n",
       "      <td>20</td>\n",
       "      <td>1</td>\n",
       "      <td>265000.00</td>\n",
       "      <td>1.9</td>\n",
       "      <td>130</td>\n",
       "      <td>1</td>\n",
       "      <td>0</td>\n",
       "      <td>4</td>\n",
       "      <td>1</td>\n",
       "    </tr>\n",
       "    <tr>\n",
       "      <th>1</th>\n",
       "      <td>55.0</td>\n",
       "      <td>0</td>\n",
       "      <td>7861</td>\n",
       "      <td>0</td>\n",
       "      <td>38</td>\n",
       "      <td>0</td>\n",
       "      <td>263358.03</td>\n",
       "      <td>1.1</td>\n",
       "      <td>136</td>\n",
       "      <td>1</td>\n",
       "      <td>0</td>\n",
       "      <td>6</td>\n",
       "      <td>1</td>\n",
       "    </tr>\n",
       "    <tr>\n",
       "      <th>2</th>\n",
       "      <td>65.0</td>\n",
       "      <td>0</td>\n",
       "      <td>146</td>\n",
       "      <td>0</td>\n",
       "      <td>20</td>\n",
       "      <td>0</td>\n",
       "      <td>162000.00</td>\n",
       "      <td>1.3</td>\n",
       "      <td>129</td>\n",
       "      <td>1</td>\n",
       "      <td>1</td>\n",
       "      <td>7</td>\n",
       "      <td>1</td>\n",
       "    </tr>\n",
       "    <tr>\n",
       "      <th>3</th>\n",
       "      <td>50.0</td>\n",
       "      <td>1</td>\n",
       "      <td>111</td>\n",
       "      <td>0</td>\n",
       "      <td>20</td>\n",
       "      <td>0</td>\n",
       "      <td>210000.00</td>\n",
       "      <td>1.9</td>\n",
       "      <td>137</td>\n",
       "      <td>1</td>\n",
       "      <td>0</td>\n",
       "      <td>7</td>\n",
       "      <td>1</td>\n",
       "    </tr>\n",
       "    <tr>\n",
       "      <th>4</th>\n",
       "      <td>65.0</td>\n",
       "      <td>1</td>\n",
       "      <td>160</td>\n",
       "      <td>1</td>\n",
       "      <td>20</td>\n",
       "      <td>0</td>\n",
       "      <td>327000.00</td>\n",
       "      <td>2.7</td>\n",
       "      <td>116</td>\n",
       "      <td>0</td>\n",
       "      <td>0</td>\n",
       "      <td>8</td>\n",
       "      <td>1</td>\n",
       "    </tr>\n",
       "  </tbody>\n",
       "</table>\n",
       "</div>"
      ],
      "text/plain": [
       "    age  anaemia  creatinine_phosphokinase  diabetes  ejection_fraction  \\\n",
       "0  75.0        0                       582         0                 20   \n",
       "1  55.0        0                      7861         0                 38   \n",
       "2  65.0        0                       146         0                 20   \n",
       "3  50.0        1                       111         0                 20   \n",
       "4  65.0        1                       160         1                 20   \n",
       "\n",
       "   high_blood_pressure  platelets  serum_creatinine  serum_sodium  sex  \\\n",
       "0                    1  265000.00               1.9           130    1   \n",
       "1                    0  263358.03               1.1           136    1   \n",
       "2                    0  162000.00               1.3           129    1   \n",
       "3                    0  210000.00               1.9           137    1   \n",
       "4                    0  327000.00               2.7           116    0   \n",
       "\n",
       "   smoking  time  DEATH_EVENT  \n",
       "0        0     4            1  \n",
       "1        0     6            1  \n",
       "2        1     7            1  \n",
       "3        0     7            1  \n",
       "4        0     8            1  "
      ]
     },
     "execution_count": 2,
     "metadata": {},
     "output_type": "execute_result"
    }
   ],
   "source": [
    "all_data.head()"
   ]
  },
  {
   "cell_type": "markdown",
   "metadata": {},
   "source": [
    "## Sanity Checks"
   ]
  },
  {
   "cell_type": "markdown",
   "metadata": {},
   "source": [
    "Before we continue or make any changes, let's check for any duplicate rows.  Luckily, there are none!"
   ]
  },
  {
   "cell_type": "code",
   "execution_count": 3,
   "metadata": {},
   "outputs": [
    {
     "data": {
      "text/html": [
       "<div>\n",
       "<style scoped>\n",
       "    .dataframe tbody tr th:only-of-type {\n",
       "        vertical-align: middle;\n",
       "    }\n",
       "\n",
       "    .dataframe tbody tr th {\n",
       "        vertical-align: top;\n",
       "    }\n",
       "\n",
       "    .dataframe thead th {\n",
       "        text-align: right;\n",
       "    }\n",
       "</style>\n",
       "<table border=\"1\" class=\"dataframe\">\n",
       "  <thead>\n",
       "    <tr style=\"text-align: right;\">\n",
       "      <th></th>\n",
       "      <th>age</th>\n",
       "      <th>anaemia</th>\n",
       "      <th>creatinine_phosphokinase</th>\n",
       "      <th>diabetes</th>\n",
       "      <th>ejection_fraction</th>\n",
       "      <th>high_blood_pressure</th>\n",
       "      <th>platelets</th>\n",
       "      <th>serum_creatinine</th>\n",
       "      <th>serum_sodium</th>\n",
       "      <th>sex</th>\n",
       "      <th>smoking</th>\n",
       "      <th>time</th>\n",
       "      <th>DEATH_EVENT</th>\n",
       "    </tr>\n",
       "  </thead>\n",
       "  <tbody>\n",
       "  </tbody>\n",
       "</table>\n",
       "</div>"
      ],
      "text/plain": [
       "Empty DataFrame\n",
       "Columns: [age, anaemia, creatinine_phosphokinase, diabetes, ejection_fraction, high_blood_pressure, platelets, serum_creatinine, serum_sodium, sex, smoking, time, DEATH_EVENT]\n",
       "Index: []"
      ]
     },
     "execution_count": 3,
     "metadata": {},
     "output_type": "execute_result"
    }
   ],
   "source": [
    "all_data[all_data.duplicated()]"
   ]
  },
  {
   "cell_type": "markdown",
   "metadata": {},
   "source": [
    "Let's also check for any missing values that may need to be investigated and fixed (imputing or investigated for removal).  We're lucky again that there are none."
   ]
  },
  {
   "cell_type": "code",
   "execution_count": 4,
   "metadata": {},
   "outputs": [
    {
     "name": "stdout",
     "output_type": "stream",
     "text": [
      "Total rows with a null element: 0\n"
     ]
    }
   ],
   "source": [
    "print(f'Total rows with a null element: {sum(all_data.isnull().any(1))}')"
   ]
  },
  {
   "cell_type": "markdown",
   "metadata": {},
   "source": [
    "## Data Types\n",
    "So the data has no duplicates or missing values, which is great.  Let's now check the data types for each column based on the accompanying paper's explanation and fix any that come up.\n",
    "\n",
    "Pandas, by default, uses 64-bit values (`int64`, `float64`, etc.).  We could go about reducing the size of these to save memory, but realistically given the small size of this dataset, it's really not worth doing.\n",
    "\n",
    "Of the below, the two that concern me are `age` and `platelets`.  The former should definitely be an integer, so something is wrong there.  The latter, looking at the brief dataframe print earlier, could be mostly rounded with a few exceptions; this is worth looking into."
   ]
  },
  {
   "cell_type": "code",
   "execution_count": 5,
   "metadata": {},
   "outputs": [
    {
     "data": {
      "text/plain": [
       "age                         float64\n",
       "anaemia                       int64\n",
       "creatinine_phosphokinase      int64\n",
       "diabetes                      int64\n",
       "ejection_fraction             int64\n",
       "high_blood_pressure           int64\n",
       "platelets                   float64\n",
       "serum_creatinine            float64\n",
       "serum_sodium                  int64\n",
       "sex                           int64\n",
       "smoking                       int64\n",
       "time                          int64\n",
       "DEATH_EVENT                   int64\n",
       "dtype: object"
      ]
     },
     "execution_count": 5,
     "metadata": {},
     "output_type": "execute_result"
    }
   ],
   "source": [
    "all_data.dtypes"
   ]
  },
  {
   "cell_type": "markdown",
   "metadata": {},
   "source": [
    "### Age\n",
    "Starting with `age`, we can check what elements are not an integer to see how many are off."
   ]
  },
  {
   "cell_type": "code",
   "execution_count": 6,
   "metadata": {},
   "outputs": [
    {
     "data": {
      "text/html": [
       "<div>\n",
       "<style scoped>\n",
       "    .dataframe tbody tr th:only-of-type {\n",
       "        vertical-align: middle;\n",
       "    }\n",
       "\n",
       "    .dataframe tbody tr th {\n",
       "        vertical-align: top;\n",
       "    }\n",
       "\n",
       "    .dataframe thead th {\n",
       "        text-align: right;\n",
       "    }\n",
       "</style>\n",
       "<table border=\"1\" class=\"dataframe\">\n",
       "  <thead>\n",
       "    <tr style=\"text-align: right;\">\n",
       "      <th></th>\n",
       "      <th>age</th>\n",
       "      <th>anaemia</th>\n",
       "      <th>creatinine_phosphokinase</th>\n",
       "      <th>diabetes</th>\n",
       "      <th>ejection_fraction</th>\n",
       "      <th>high_blood_pressure</th>\n",
       "      <th>platelets</th>\n",
       "      <th>serum_creatinine</th>\n",
       "      <th>serum_sodium</th>\n",
       "      <th>sex</th>\n",
       "      <th>smoking</th>\n",
       "      <th>time</th>\n",
       "      <th>DEATH_EVENT</th>\n",
       "    </tr>\n",
       "  </thead>\n",
       "  <tbody>\n",
       "    <tr>\n",
       "      <th>185</th>\n",
       "      <td>60.667</td>\n",
       "      <td>1</td>\n",
       "      <td>104</td>\n",
       "      <td>1</td>\n",
       "      <td>30</td>\n",
       "      <td>0</td>\n",
       "      <td>389000.0</td>\n",
       "      <td>1.5</td>\n",
       "      <td>136</td>\n",
       "      <td>1</td>\n",
       "      <td>0</td>\n",
       "      <td>171</td>\n",
       "      <td>1</td>\n",
       "    </tr>\n",
       "    <tr>\n",
       "      <th>188</th>\n",
       "      <td>60.667</td>\n",
       "      <td>1</td>\n",
       "      <td>151</td>\n",
       "      <td>1</td>\n",
       "      <td>40</td>\n",
       "      <td>1</td>\n",
       "      <td>201000.0</td>\n",
       "      <td>1.0</td>\n",
       "      <td>136</td>\n",
       "      <td>0</td>\n",
       "      <td>0</td>\n",
       "      <td>172</td>\n",
       "      <td>0</td>\n",
       "    </tr>\n",
       "  </tbody>\n",
       "</table>\n",
       "</div>"
      ],
      "text/plain": [
       "        age  anaemia  creatinine_phosphokinase  diabetes  ejection_fraction  \\\n",
       "185  60.667        1                       104         1                 30   \n",
       "188  60.667        1                       151         1                 40   \n",
       "\n",
       "     high_blood_pressure  platelets  serum_creatinine  serum_sodium  sex  \\\n",
       "185                    0   389000.0               1.5           136    1   \n",
       "188                    1   201000.0               1.0           136    0   \n",
       "\n",
       "     smoking  time  DEATH_EVENT  \n",
       "185        0   171            1  \n",
       "188        0   172            0  "
      ]
     },
     "execution_count": 6,
     "metadata": {},
     "output_type": "execute_result"
    }
   ],
   "source": [
    "all_data[all_data['age'].map(lambda x: not x.is_integer())]"
   ]
  },
  {
   "cell_type": "markdown",
   "metadata": {},
   "source": [
    "It appears that two values are decimals, so it's likely an input error.  Given that they are so few in number, it's worth just rounding them up and converting the column to be an `int64`."
   ]
  },
  {
   "cell_type": "code",
   "execution_count": 7,
   "metadata": {},
   "outputs": [],
   "source": [
    "all_data['age'] = all_data['age'].round(0).astype(np.int64)"
   ]
  },
  {
   "cell_type": "code",
   "execution_count": 8,
   "metadata": {},
   "outputs": [
    {
     "name": "stdout",
     "output_type": "stream",
     "text": [
      "The age column is now: int64\n",
      "Entry 185 is now 61\n",
      "Entry 188 is now 61\n"
     ]
    }
   ],
   "source": [
    "print(f'The age column is now: {all_data.age.dtype}')\n",
    "\n",
    "# Check the above two values that were floats before.\n",
    "print(f'Entry 185 is now {all_data.age.iloc[185]}')\n",
    "print(f'Entry 188 is now {all_data.age.iloc[188]}')"
   ]
  },
  {
   "cell_type": "markdown",
   "metadata": {},
   "source": [
    "### Platelets\n",
    "Now let's deal with the `platelets` column.  From my very limited knowledge of platelet measurements, decimal places don't seem to be used.  Let's have a browse of all non-integer values in that column."
   ]
  },
  {
   "cell_type": "code",
   "execution_count": 9,
   "metadata": {},
   "outputs": [
    {
     "name": "stdout",
     "output_type": "stream",
     "text": [
      "Total number of float platelets: 25\n",
      "Unique float platelet values: [263358.03]\n"
     ]
    }
   ],
   "source": [
    "float_platelets = all_data[all_data['platelets'].map(lambda x: not x.is_integer())]['platelets']\n",
    "\n",
    "print(f'Total number of float platelets: {len(float_platelets)}')\n",
    "print(f'Unique float platelet values: {float_platelets.unique()}')"
   ]
  },
  {
   "cell_type": "markdown",
   "metadata": {},
   "source": [
    "Given that the majority of values are integers, that all 25 of the float values are identical, and that the deviation of these float values is *really* close to an integer, it's fairly safe to round and convert just like `age`.  From what I can see, both the old and new paper don't mention this."
   ]
  },
  {
   "cell_type": "code",
   "execution_count": 10,
   "metadata": {},
   "outputs": [],
   "source": [
    "all_data['platelets'] = all_data['platelets'].round(0).astype(np.int64)"
   ]
  },
  {
   "cell_type": "code",
   "execution_count": 11,
   "metadata": {
    "scrolled": true
   },
   "outputs": [
    {
     "name": "stdout",
     "output_type": "stream",
     "text": [
      "The platelets column is now: int64\n"
     ]
    }
   ],
   "source": [
    "print(f'The platelets column is now: {all_data.platelets.dtype}')"
   ]
  },
  {
   "cell_type": "markdown",
   "metadata": {},
   "source": [
    "## Data Ranges\n",
    "The paper that this data comes with describes the ranges within which the data falls.  Let's have a look at the ranges and see if they match."
   ]
  },
  {
   "cell_type": "code",
   "execution_count": 12,
   "metadata": {},
   "outputs": [
    {
     "data": {
      "text/html": [
       "<div>\n",
       "<style scoped>\n",
       "    .dataframe tbody tr th:only-of-type {\n",
       "        vertical-align: middle;\n",
       "    }\n",
       "\n",
       "    .dataframe tbody tr th {\n",
       "        vertical-align: top;\n",
       "    }\n",
       "\n",
       "    .dataframe thead th {\n",
       "        text-align: right;\n",
       "    }\n",
       "</style>\n",
       "<table border=\"1\" class=\"dataframe\">\n",
       "  <thead>\n",
       "    <tr style=\"text-align: right;\">\n",
       "      <th></th>\n",
       "      <th>age</th>\n",
       "      <th>anaemia</th>\n",
       "      <th>creatinine_phosphokinase</th>\n",
       "      <th>diabetes</th>\n",
       "      <th>ejection_fraction</th>\n",
       "      <th>high_blood_pressure</th>\n",
       "      <th>platelets</th>\n",
       "      <th>serum_creatinine</th>\n",
       "      <th>serum_sodium</th>\n",
       "      <th>sex</th>\n",
       "      <th>smoking</th>\n",
       "      <th>time</th>\n",
       "      <th>DEATH_EVENT</th>\n",
       "    </tr>\n",
       "  </thead>\n",
       "  <tbody>\n",
       "    <tr>\n",
       "      <th>count</th>\n",
       "      <td>299.0</td>\n",
       "      <td>299.0</td>\n",
       "      <td>299.0</td>\n",
       "      <td>299.0</td>\n",
       "      <td>299.0</td>\n",
       "      <td>299.0</td>\n",
       "      <td>299.0</td>\n",
       "      <td>299.0</td>\n",
       "      <td>299.0</td>\n",
       "      <td>299.0</td>\n",
       "      <td>299.0</td>\n",
       "      <td>299.0</td>\n",
       "      <td>299.0</td>\n",
       "    </tr>\n",
       "    <tr>\n",
       "      <th>min</th>\n",
       "      <td>40.0</td>\n",
       "      <td>0.0</td>\n",
       "      <td>23.0</td>\n",
       "      <td>0.0</td>\n",
       "      <td>14.0</td>\n",
       "      <td>0.0</td>\n",
       "      <td>25100.0</td>\n",
       "      <td>0.5</td>\n",
       "      <td>113.0</td>\n",
       "      <td>0.0</td>\n",
       "      <td>0.0</td>\n",
       "      <td>4.0</td>\n",
       "      <td>0.0</td>\n",
       "    </tr>\n",
       "    <tr>\n",
       "      <th>max</th>\n",
       "      <td>95.0</td>\n",
       "      <td>1.0</td>\n",
       "      <td>7861.0</td>\n",
       "      <td>1.0</td>\n",
       "      <td>80.0</td>\n",
       "      <td>1.0</td>\n",
       "      <td>850000.0</td>\n",
       "      <td>9.4</td>\n",
       "      <td>148.0</td>\n",
       "      <td>1.0</td>\n",
       "      <td>1.0</td>\n",
       "      <td>285.0</td>\n",
       "      <td>1.0</td>\n",
       "    </tr>\n",
       "  </tbody>\n",
       "</table>\n",
       "</div>"
      ],
      "text/plain": [
       "         age  anaemia  creatinine_phosphokinase  diabetes  ejection_fraction  \\\n",
       "count  299.0    299.0                     299.0     299.0              299.0   \n",
       "min     40.0      0.0                      23.0       0.0               14.0   \n",
       "max     95.0      1.0                    7861.0       1.0               80.0   \n",
       "\n",
       "       high_blood_pressure  platelets  serum_creatinine  serum_sodium    sex  \\\n",
       "count                299.0      299.0             299.0         299.0  299.0   \n",
       "min                    0.0    25100.0               0.5         113.0    0.0   \n",
       "max                    1.0   850000.0               9.4         148.0    1.0   \n",
       "\n",
       "       smoking   time  DEATH_EVENT  \n",
       "count    299.0  299.0        299.0  \n",
       "min        0.0    4.0          0.0  \n",
       "max        1.0  285.0          1.0  "
      ]
     },
     "execution_count": 12,
     "metadata": {},
     "output_type": "execute_result"
    }
   ],
   "source": [
    "# Could also do this by hand, but whatever.\n",
    "all_data.describe().drop(['mean', 'std', '25%', '50%', '75%'])"
   ]
  },
  {
   "cell_type": "markdown",
   "metadata": {},
   "source": [
    "Of these, `serum_sodium` is listed as having a minimum of `114`, but here it's `113`.  I cannot see this being an issue and it's likely a misreporting, so I'll leave that unchanged.\n",
    "\n",
    "They have also converted `platelets` by multiplying it by `0.001`, likely to either have the units in a different scale or to bring it closer to the other variables.  Regardless, I'll do the same."
   ]
  },
  {
   "cell_type": "code",
   "execution_count": 13,
   "metadata": {},
   "outputs": [],
   "source": [
    "all_data['platelets'] = all_data['platelets'] * 0.001"
   ]
  },
  {
   "cell_type": "markdown",
   "metadata": {},
   "source": [
    "## Skewness\n",
    "Since many outlier detection algorithms are susceptible to skewed datasets, let's firstly see if any of the data needs to be transformed due to being too skewed.  Typically, anything within `+/- 0.5` is acceptable, up to `+/- 1.0` is moderately skewed, and anything over `+/- 1.0` is highly skewed.  We can view these with histograms or by calculating the skew.\n",
    "\n",
    "Any transformations made here will have to be made to new input data to the machine learning model too.\n",
    "\n",
    "Let's begin by identifying any columns that are a little too high."
   ]
  },
  {
   "cell_type": "code",
   "execution_count": 14,
   "metadata": {},
   "outputs": [
    {
     "data": {
      "text/plain": [
       "creatinine_phosphokinase    4.463110\n",
       "serum_creatinine            4.455996\n",
       "platelets                   1.462321\n",
       "ejection_fraction           0.555383\n",
       "serum_sodium               -1.048136\n",
       "dtype: float64"
      ]
     },
     "execution_count": 14,
     "metadata": {},
     "output_type": "execute_result"
    }
   ],
   "source": [
    "# Arbitrarily chosen. Medium skewness is worth investigating.\n",
    "skew_threshold = 0.5\n",
    "\n",
    "# Compute the skewness for all columns except the target and any known booleans.\n",
    "skew_drop = ['anaemia', 'high_blood_pressure', 'diabetes', 'sex', 'smoking', 'DEATH_EVENT']\n",
    "skewed_df = all_data.drop(skew_drop, axis=1).skew().sort_values(ascending=False)\n",
    "skewed_df = skewed_df[(skewed_df > skew_threshold) | (skewed_df < -skew_threshold)]\n",
    "skewed_df"
   ]
  },
  {
   "cell_type": "markdown",
   "metadata": {},
   "source": [
    "There are a few listed above, so let's view them, scale them with a `log`, and then view them again.  Originally I had used `boxcox` here, but it was problematic with `serum_sodium`, returning a very large lambda, so I've reverted to `log` just to be safe."
   ]
  },
  {
   "cell_type": "code",
   "execution_count": 15,
   "metadata": {},
   "outputs": [
    {
     "data": {
      "image/png": "[encoded data removed]",
      "text/plain": [
       "<Figure size 864x432 with 5 Axes>"
      ]
     },
     "metadata": {
      "needs_background": "light"
     },
     "output_type": "display_data"
    }
   ],
   "source": [
    "skew_fig = plt.figure(figsize=(12,6))\n",
    "for i in range(1, len(skewed_df)+1):\n",
    "    skew_fig.add_subplot(2, 3, i)\n",
    "    col = skewed_df.index[i-1]\n",
    "    sns.distplot(all_data[col])\n",
    "skew_fig.tight_layout()\n",
    "plt.show()"
   ]
  },
  {
   "cell_type": "code",
   "execution_count": 16,
   "metadata": {},
   "outputs": [],
   "source": [
    "# Log all of the skewed columns in the original dataset.\n",
    "for col in skewed_df.index:\n",
    "    all_data[col] = np.log10(all_data[col])\n",
    "    #all_data[col] = stats.boxcox(all_data[col])[0]"
   ]
  },
  {
   "cell_type": "markdown",
   "metadata": {},
   "source": [
    "Now that the columns have been unskewed, the skewness looks much better!  In fact, `boxcox` made them almost normal!"
   ]
  },
  {
   "cell_type": "code",
   "execution_count": 17,
   "metadata": {},
   "outputs": [
    {
     "name": "stdout",
     "output_type": "stream",
     "text": [
      "creatinine_phosphokinase skew: 0.41400698865657254\n",
      "serum_creatinine skew: 1.5839897821275557\n",
      "platelets skew: -1.2849539031426473\n",
      "ejection_fraction skew: -0.2721047525291954\n",
      "serum_sodium skew: -1.3122653778551214\n"
     ]
    }
   ],
   "source": [
    "for col in skewed_df.index:\n",
    "    skew_val = all_data[col].skew()\n",
    "    print(f'{col} skew: {skew_val}')"
   ]
  },
  {
   "cell_type": "code",
   "execution_count": 18,
   "metadata": {},
   "outputs": [
    {
     "data": {
      "image/png": "[encoded data removed]",
      "text/plain": [
       "<Figure size 864x432 with 5 Axes>"
      ]
     },
     "metadata": {
      "needs_background": "light"
     },
     "output_type": "display_data"
    }
   ],
   "source": [
    "skew_fig = plt.figure(figsize=(12,6))\n",
    "for i in range(1, len(skewed_df)+1):\n",
    "    skew_fig.add_subplot(2, 3, i)\n",
    "    col = skewed_df.index[i-1]\n",
    "    sns.distplot(all_data[col])\n",
    "skew_fig.tight_layout()\n",
    "plt.show()"
   ]
  },
  {
   "cell_type": "markdown",
   "metadata": {},
   "source": [
    "## Outliers\n",
    "Now that the data has been normalized better, we can more accurately detect and process outliers.  We could use a Cook's score here, z-score, or even more advanced methods like clustering with DBSCAN, but I'm going to stick with IQR and I've had good results with it in the past.\n",
    "\n",
    "Treating outliers is always a prickly subject.  We could do nothing, treat them as missing and impute them based on similar values, winsorize them by replacing them with boundary values, remove them completely, and more.  We must also consider that the dataset we have is relatively small, so what we see as outliers may very well be normal in a larger dataset.\n",
    "\n",
    "I tend to firstly look to see if it's obviously a measurement error or data entry error; something that is clearly incorrect.  If that's not the case, then I see how far away that value really is, and whether it's isolated or within a group.  I usually then test the outliers against the target variable, as the very fact that they are \"outliers\" may strongly contribute to the outcome!"
   ]
  },
  {
   "cell_type": "code",
   "execution_count": 19,
   "metadata": {},
   "outputs": [],
   "source": [
    "def outliers_for_column(df, col):\n",
    "    q1 = np.percentile(df[col], 25)\n",
    "    q3 = np.percentile(df[col], 75)\n",
    "    iqr = q3 - q1\n",
    "    lower = q1 - (iqr * 1.5)\n",
    "    upper = q3 + (iqr * 1.5)\n",
    "    return df[(df[col] > upper) | (df[col] < lower)]"
   ]
  },
  {
   "cell_type": "code",
   "execution_count": 20,
   "metadata": {},
   "outputs": [
    {
     "name": "stdout",
     "output_type": "stream",
     "text": [
      "creatinine_phosphokinase has 2 outliers.\n",
      "ejection_fraction has 3 outliers.\n",
      "platelets has 16 outliers.\n",
      "serum_creatinine has 17 outliers.\n",
      "serum_sodium has 5 outliers.\n"
     ]
    }
   ],
   "source": [
    "for col in all_data.columns:\n",
    "    outliers = outliers_for_column(all_data, col)\n",
    "    if len(outliers) > 0:\n",
    "        print(f'{col} has {len(outliers)} outliers.')"
   ]
  },
  {
   "cell_type": "markdown",
   "metadata": {},
   "source": [
    "Below I'm making a helper function to investigate the outliers.  It has five sections.\n",
    "\n",
    "1. Get all of the outliers.\n",
    "2. Calculate deaths in the outliers relative to their own length and also in respect to the global count.\n",
    "3. See how far the outliers sit from the min/mean/max of the data *without* the outliers present.\n",
    "4. Show the outliers' complete row information for inspection.\n",
    "5. Show a boxplot of the original column split by the target variable.\n",
    "\n",
    "These used together can help to decide what to do with the outliers.  One thing to consider here, especially given the limited size of the dataset, is that outliers very well may be a contributing factor for death, and that removing them would significantly reduce the number of deaths, creating a very imbalanced dataset."
   ]
  },
  {
   "cell_type": "code",
   "execution_count": 21,
   "metadata": {},
   "outputs": [],
   "source": [
    "# Helper function for investigating the outliers.\n",
    "def investigate_outliers(df, col):\n",
    "    all_data_len = len(all_data)\n",
    "    all_data_deaths = sum(all_data['DEATH_EVENT'] == 1)\n",
    "    \n",
    "    print(f'{col}:')\n",
    "    \n",
    "    # 1. Get all outliers for the column.\n",
    "    outliers = outliers_for_column(all_data, col)\n",
    "    num_outs = len(outliers)\n",
    "    total_pct = round((num_outs / all_data_len)*100, 2)\n",
    "    print(f'  {num_outs}/{all_data_len} total samples are outliers ({total_pct}%)')\n",
    "    \n",
    "    # 2. How many deaths were a result of the outliers and what percentage is this of the column?\n",
    "    outlier_deaths = outliers[outliers['DEATH_EVENT'] == 1]\n",
    "    num_out_deaths = len(outlier_deaths)\n",
    "    out_death_pct = round((num_out_deaths / num_outs)*100, 2)\n",
    "    out_death_pct_global = round((num_out_deaths / all_data_deaths)*100, 2)\n",
    "    print(f'  {num_out_deaths}/{num_outs} deaths within the outliers ({out_death_pct}%)')\n",
    "    print(f'  {num_out_deaths}/{all_data_deaths} global deaths are from the outliers ({out_death_pct_global}%)')\n",
    "\n",
    "    # 3. How far from the min/max/mean are the outliers?\n",
    "    df_outs_removed = all_data.drop(outliers.index)[col]\n",
    "    removed_min = df_outs_removed.min()\n",
    "    removed_mean = df_outs_removed.mean()\n",
    "    removed_max = df_outs_removed.max()\n",
    "    print(f'\\nWith outliers removed, {col} has ', end='')\n",
    "    print(f'(min={round(removed_min, 2)})', end='')\n",
    "    print(f' (mean={round(removed_mean, 2)})', end='')\n",
    "    print(f' (max: {round(removed_max, 2)}).')\n",
    "    print('Outliers and their distance from the removed mean:')\n",
    "    for idx,row in outliers.iterrows():\n",
    "        print(f'  [{idx}] is ~{round(abs(removed_mean - row[col]), 2)} from the removed mean.')\n",
    "    \n",
    "    # 4. Show the outliers table.\n",
    "    print('\\nRaw data points:')\n",
    "    display(HTML(outliers.to_html()))\n",
    "    \n",
    "    # 5. Show the (non-removed) boxplot for eyeballing outliers, split by DEATH_EVENT.\n",
    "    print(f'\\n{col} boxplot:')\n",
    "    sns.boxplot(x=all_data[col], y=all_data['DEATH_EVENT'], orient='h')"
   ]
  },
  {
   "cell_type": "markdown",
   "metadata": {},
   "source": [
    "### `creatinine_phosphokinase`\n",
    "Let's begin with `creatinine_phosphokinase`.  The two outliers are both responsible for deaths but only make up ~2% of the total death count.  Their actual value does not differ too much from the maximum of the removed mean.  I do not see any reason to remove or alter them based on their values unless they become problematic later."
   ]
  },
  {
   "cell_type": "code",
   "execution_count": 22,
   "metadata": {
    "scrolled": false
   },
   "outputs": [
    {
     "name": "stdout",
     "output_type": "stream",
     "text": [
      "creatinine_phosphokinase:\n",
      "  2/299 total samples are outliers (0.67%)\n",
      "  2/2 deaths within the outliers (100.0%)\n",
      "  2/96 global deaths are from the outliers (2.08%)\n",
      "\n",
      "With outliers removed, creatinine_phosphokinase has (min=1.36) (mean=2.45) (max: 3.77).\n",
      "Outliers and their distance from the removed mean:\n",
      "  [1] is ~1.45 from the removed mean.\n",
      "  [60] is ~1.44 from the removed mean.\n",
      "\n",
      "Raw data points:\n"
     ]
    },
    {
     "data": {
      "text/html": [
       "<table border=\"1\" class=\"dataframe\">\n",
       "  <thead>\n",
       "    <tr style=\"text-align: right;\">\n",
       "      <th></th>\n",
       "      <th>age</th>\n",
       "      <th>anaemia</th>\n",
       "      <th>creatinine_phosphokinase</th>\n",
       "      <th>diabetes</th>\n",
       "      <th>ejection_fraction</th>\n",
       "      <th>high_blood_pressure</th>\n",
       "      <th>platelets</th>\n",
       "      <th>serum_creatinine</th>\n",
       "      <th>serum_sodium</th>\n",
       "      <th>sex</th>\n",
       "      <th>smoking</th>\n",
       "      <th>time</th>\n",
       "      <th>DEATH_EVENT</th>\n",
       "    </tr>\n",
       "  </thead>\n",
       "  <tbody>\n",
       "    <tr>\n",
       "      <th>1</th>\n",
       "      <td>55</td>\n",
       "      <td>0</td>\n",
       "      <td>3.895478</td>\n",
       "      <td>0</td>\n",
       "      <td>1.579784</td>\n",
       "      <td>0</td>\n",
       "      <td>2.420547</td>\n",
       "      <td>0.041393</td>\n",
       "      <td>2.133539</td>\n",
       "      <td>1</td>\n",
       "      <td>0</td>\n",
       "      <td>6</td>\n",
       "      <td>1</td>\n",
       "    </tr>\n",
       "    <tr>\n",
       "      <th>60</th>\n",
       "      <td>45</td>\n",
       "      <td>0</td>\n",
       "      <td>3.886604</td>\n",
       "      <td>1</td>\n",
       "      <td>1.397940</td>\n",
       "      <td>1</td>\n",
       "      <td>2.591065</td>\n",
       "      <td>0.000000</td>\n",
       "      <td>2.143015</td>\n",
       "      <td>1</td>\n",
       "      <td>0</td>\n",
       "      <td>60</td>\n",
       "      <td>1</td>\n",
       "    </tr>\n",
       "  </tbody>\n",
       "</table>"
      ],
      "text/plain": [
       "<IPython.core.display.HTML object>"
      ]
     },
     "metadata": {},
     "output_type": "display_data"
    },
    {
     "name": "stdout",
     "output_type": "stream",
     "text": [
      "\n",
      "creatinine_phosphokinase boxplot:\n"
     ]
    },
    {
     "data": {
      "image/png": "[encoded data removed]",
      "text/plain": [
       "<Figure size 432x288 with 1 Axes>"
      ]
     },
     "metadata": {
      "needs_background": "light"
     },
     "output_type": "display_data"
    }
   ],
   "source": [
    "investigate_outliers(all_data, 'creatinine_phosphokinase')"
   ]
  },
  {
   "cell_type": "markdown",
   "metadata": {},
   "source": [
    "### `ejection_fraction`\n",
    "A very similar situation from the previous variable.  The points are few in number and do not deviate too much.  However, this time all three *did not* die."
   ]
  },
  {
   "cell_type": "code",
   "execution_count": 23,
   "metadata": {},
   "outputs": [
    {
     "name": "stdout",
     "output_type": "stream",
     "text": [
      "ejection_fraction:\n",
      "  3/299 total samples are outliers (1.0%)\n",
      "  3/3 deaths within the outliers (100.0%)\n",
      "  3/96 global deaths are from the outliers (3.12%)\n",
      "\n",
      "With outliers removed, ejection_fraction has (min=1.23) (mean=1.56) (max: 1.9).\n",
      "Outliers and their distance from the removed mean:\n",
      "  [6] is ~0.39 from the removed mean.\n",
      "  [17] is ~0.42 from the removed mean.\n",
      "  [66] is ~0.39 from the removed mean.\n",
      "\n",
      "Raw data points:\n"
     ]
    },
    {
     "data": {
      "text/html": [
       "<table border=\"1\" class=\"dataframe\">\n",
       "  <thead>\n",
       "    <tr style=\"text-align: right;\">\n",
       "      <th></th>\n",
       "      <th>age</th>\n",
       "      <th>anaemia</th>\n",
       "      <th>creatinine_phosphokinase</th>\n",
       "      <th>diabetes</th>\n",
       "      <th>ejection_fraction</th>\n",
       "      <th>high_blood_pressure</th>\n",
       "      <th>platelets</th>\n",
       "      <th>serum_creatinine</th>\n",
       "      <th>serum_sodium</th>\n",
       "      <th>sex</th>\n",
       "      <th>smoking</th>\n",
       "      <th>time</th>\n",
       "      <th>DEATH_EVENT</th>\n",
       "    </tr>\n",
       "  </thead>\n",
       "  <tbody>\n",
       "    <tr>\n",
       "      <th>6</th>\n",
       "      <td>75</td>\n",
       "      <td>1</td>\n",
       "      <td>2.390935</td>\n",
       "      <td>0</td>\n",
       "      <td>1.176091</td>\n",
       "      <td>0</td>\n",
       "      <td>2.103804</td>\n",
       "      <td>0.079181</td>\n",
       "      <td>2.136721</td>\n",
       "      <td>1</td>\n",
       "      <td>0</td>\n",
       "      <td>10</td>\n",
       "      <td>1</td>\n",
       "    </tr>\n",
       "    <tr>\n",
       "      <th>17</th>\n",
       "      <td>45</td>\n",
       "      <td>0</td>\n",
       "      <td>2.764923</td>\n",
       "      <td>0</td>\n",
       "      <td>1.146128</td>\n",
       "      <td>0</td>\n",
       "      <td>2.220108</td>\n",
       "      <td>-0.096910</td>\n",
       "      <td>2.103804</td>\n",
       "      <td>1</td>\n",
       "      <td>0</td>\n",
       "      <td>14</td>\n",
       "      <td>1</td>\n",
       "    </tr>\n",
       "    <tr>\n",
       "      <th>66</th>\n",
       "      <td>42</td>\n",
       "      <td>1</td>\n",
       "      <td>2.397940</td>\n",
       "      <td>1</td>\n",
       "      <td>1.176091</td>\n",
       "      <td>0</td>\n",
       "      <td>2.328380</td>\n",
       "      <td>0.113943</td>\n",
       "      <td>2.133539</td>\n",
       "      <td>0</td>\n",
       "      <td>0</td>\n",
       "      <td>65</td>\n",
       "      <td>1</td>\n",
       "    </tr>\n",
       "  </tbody>\n",
       "</table>"
      ],
      "text/plain": [
       "<IPython.core.display.HTML object>"
      ]
     },
     "metadata": {},
     "output_type": "display_data"
    },
    {
     "name": "stdout",
     "output_type": "stream",
     "text": [
      "\n",
      "ejection_fraction boxplot:\n"
     ]
    },
    {
     "data": {
      "image/png": "[encoded data removed]",
      "text/plain": [
       "<Figure size 432x288 with 1 Axes>"
      ]
     },
     "metadata": {
      "needs_background": "light"
     },
     "output_type": "display_data"
    }
   ],
   "source": [
    "investigate_outliers(all_data, 'ejection_fraction')"
   ]
  },
  {
   "cell_type": "markdown",
   "metadata": {},
   "source": [
    "### `platelets`\n",
    "The outliers here are a little different.  Firstly they are greater in number, almost evenly spread between death and survival, and contribute to a greater number of deaths on the global scale.  Again, though, they do not deviate too far from the removed mean, so I'm not too worried about them yet.  There does seem to be a bias toward the lower bound for outliers which could warrant more investigation in the future."
   ]
  },
  {
   "cell_type": "code",
   "execution_count": 24,
   "metadata": {},
   "outputs": [
    {
     "name": "stdout",
     "output_type": "stream",
     "text": [
      "platelets:\n",
      "  16/299 total samples are outliers (5.35%)\n",
      "  7/16 deaths within the outliers (43.75%)\n",
      "  7/96 global deaths are from the outliers (7.29%)\n",
      "\n",
      "With outliers removed, platelets has (min=2.1) (mean=2.4) (max: 2.71).\n",
      "Outliers and their distance from the removed mean:\n",
      "  [15] is ~0.73 from the removed mean.\n",
      "  [19] is ~0.46 from the removed mean.\n",
      "  [65] is ~0.33 from the removed mean.\n",
      "  [71] is ~0.32 from the removed mean.\n",
      "  [105] is ~0.39 from the removed mean.\n",
      "  [109] is ~0.53 from the removed mean.\n",
      "  [163] is ~0.53 from the removed mean.\n",
      "  [167] is ~0.56 from the removed mean.\n",
      "  [176] is ~0.38 from the removed mean.\n",
      "  [200] is ~0.54 from the removed mean.\n",
      "  [230] is ~0.61 from the removed mean.\n",
      "  [240] is ~0.32 from the removed mean.\n",
      "  [277] is ~1.0 from the removed mean.\n",
      "  [281] is ~0.7 from the removed mean.\n",
      "  [287] is ~0.33 from the removed mean.\n",
      "  [296] is ~0.47 from the removed mean.\n",
      "\n",
      "Raw data points:\n"
     ]
    },
    {
     "data": {
      "text/html": [
       "<table border=\"1\" class=\"dataframe\">\n",
       "  <thead>\n",
       "    <tr style=\"text-align: right;\">\n",
       "      <th></th>\n",
       "      <th>age</th>\n",
       "      <th>anaemia</th>\n",
       "      <th>creatinine_phosphokinase</th>\n",
       "      <th>diabetes</th>\n",
       "      <th>ejection_fraction</th>\n",
       "      <th>high_blood_pressure</th>\n",
       "      <th>platelets</th>\n",
       "      <th>serum_creatinine</th>\n",
       "      <th>serum_sodium</th>\n",
       "      <th>sex</th>\n",
       "      <th>smoking</th>\n",
       "      <th>time</th>\n",
       "      <th>DEATH_EVENT</th>\n",
       "    </tr>\n",
       "  </thead>\n",
       "  <tbody>\n",
       "    <tr>\n",
       "      <th>15</th>\n",
       "      <td>82</td>\n",
       "      <td>1</td>\n",
       "      <td>2.578639</td>\n",
       "      <td>0</td>\n",
       "      <td>1.698970</td>\n",
       "      <td>0</td>\n",
       "      <td>1.672098</td>\n",
       "      <td>0.113943</td>\n",
       "      <td>2.133539</td>\n",
       "      <td>1</td>\n",
       "      <td>0</td>\n",
       "      <td>13</td>\n",
       "      <td>1</td>\n",
       "    </tr>\n",
       "    <tr>\n",
       "      <th>19</th>\n",
       "      <td>48</td>\n",
       "      <td>1</td>\n",
       "      <td>2.764923</td>\n",
       "      <td>1</td>\n",
       "      <td>1.740363</td>\n",
       "      <td>0</td>\n",
       "      <td>1.939519</td>\n",
       "      <td>0.278754</td>\n",
       "      <td>2.082785</td>\n",
       "      <td>0</td>\n",
       "      <td>0</td>\n",
       "      <td>15</td>\n",
       "      <td>1</td>\n",
       "    </tr>\n",
       "    <tr>\n",
       "      <th>65</th>\n",
       "      <td>60</td>\n",
       "      <td>0</td>\n",
       "      <td>1.832509</td>\n",
       "      <td>0</td>\n",
       "      <td>1.301030</td>\n",
       "      <td>0</td>\n",
       "      <td>2.075547</td>\n",
       "      <td>0.462398</td>\n",
       "      <td>2.103804</td>\n",
       "      <td>1</td>\n",
       "      <td>1</td>\n",
       "      <td>64</td>\n",
       "      <td>1</td>\n",
       "    </tr>\n",
       "    <tr>\n",
       "      <th>71</th>\n",
       "      <td>58</td>\n",
       "      <td>0</td>\n",
       "      <td>2.764923</td>\n",
       "      <td>1</td>\n",
       "      <td>1.544068</td>\n",
       "      <td>0</td>\n",
       "      <td>2.086360</td>\n",
       "      <td>-0.045757</td>\n",
       "      <td>2.143015</td>\n",
       "      <td>1</td>\n",
       "      <td>1</td>\n",
       "      <td>71</td>\n",
       "      <td>0</td>\n",
       "    </tr>\n",
       "    <tr>\n",
       "      <th>105</th>\n",
       "      <td>72</td>\n",
       "      <td>1</td>\n",
       "      <td>2.515874</td>\n",
       "      <td>0</td>\n",
       "      <td>1.477121</td>\n",
       "      <td>1</td>\n",
       "      <td>2.793092</td>\n",
       "      <td>0.230449</td>\n",
       "      <td>2.139879</td>\n",
       "      <td>0</td>\n",
       "      <td>1</td>\n",
       "      <td>88</td>\n",
       "      <td>1</td>\n",
       "    </tr>\n",
       "    <tr>\n",
       "      <th>109</th>\n",
       "      <td>45</td>\n",
       "      <td>0</td>\n",
       "      <td>2.465383</td>\n",
       "      <td>1</td>\n",
       "      <td>1.544068</td>\n",
       "      <td>0</td>\n",
       "      <td>2.929419</td>\n",
       "      <td>0.113943</td>\n",
       "      <td>2.152288</td>\n",
       "      <td>1</td>\n",
       "      <td>1</td>\n",
       "      <td>88</td>\n",
       "      <td>0</td>\n",
       "    </tr>\n",
       "    <tr>\n",
       "      <th>163</th>\n",
       "      <td>50</td>\n",
       "      <td>1</td>\n",
       "      <td>3.368101</td>\n",
       "      <td>1</td>\n",
       "      <td>1.544068</td>\n",
       "      <td>0</td>\n",
       "      <td>1.875061</td>\n",
       "      <td>-0.045757</td>\n",
       "      <td>2.152288</td>\n",
       "      <td>0</td>\n",
       "      <td>0</td>\n",
       "      <td>126</td>\n",
       "      <td>1</td>\n",
       "    </tr>\n",
       "    <tr>\n",
       "      <th>167</th>\n",
       "      <td>59</td>\n",
       "      <td>0</td>\n",
       "      <td>1.819544</td>\n",
       "      <td>1</td>\n",
       "      <td>1.301030</td>\n",
       "      <td>0</td>\n",
       "      <td>1.845098</td>\n",
       "      <td>0.380211</td>\n",
       "      <td>2.127105</td>\n",
       "      <td>1</td>\n",
       "      <td>0</td>\n",
       "      <td>135</td>\n",
       "      <td>1</td>\n",
       "    </tr>\n",
       "    <tr>\n",
       "      <th>176</th>\n",
       "      <td>69</td>\n",
       "      <td>0</td>\n",
       "      <td>3.151982</td>\n",
       "      <td>0</td>\n",
       "      <td>1.602060</td>\n",
       "      <td>0</td>\n",
       "      <td>2.021189</td>\n",
       "      <td>0.000000</td>\n",
       "      <td>2.130334</td>\n",
       "      <td>1</td>\n",
       "      <td>1</td>\n",
       "      <td>147</td>\n",
       "      <td>0</td>\n",
       "    </tr>\n",
       "    <tr>\n",
       "      <th>200</th>\n",
       "      <td>63</td>\n",
       "      <td>1</td>\n",
       "      <td>3.247237</td>\n",
       "      <td>0</td>\n",
       "      <td>1.653213</td>\n",
       "      <td>0</td>\n",
       "      <td>1.863323</td>\n",
       "      <td>-0.154902</td>\n",
       "      <td>2.136721</td>\n",
       "      <td>1</td>\n",
       "      <td>0</td>\n",
       "      <td>186</td>\n",
       "      <td>0</td>\n",
       "    </tr>\n",
       "    <tr>\n",
       "      <th>230</th>\n",
       "      <td>60</td>\n",
       "      <td>0</td>\n",
       "      <td>2.220108</td>\n",
       "      <td>0</td>\n",
       "      <td>1.477121</td>\n",
       "      <td>0</td>\n",
       "      <td>1.792392</td>\n",
       "      <td>0.230449</td>\n",
       "      <td>2.103804</td>\n",
       "      <td>0</td>\n",
       "      <td>0</td>\n",
       "      <td>207</td>\n",
       "      <td>1</td>\n",
       "    </tr>\n",
       "    <tr>\n",
       "      <th>240</th>\n",
       "      <td>70</td>\n",
       "      <td>0</td>\n",
       "      <td>1.908485</td>\n",
       "      <td>1</td>\n",
       "      <td>1.544068</td>\n",
       "      <td>1</td>\n",
       "      <td>2.726727</td>\n",
       "      <td>0.113943</td>\n",
       "      <td>2.143015</td>\n",
       "      <td>0</td>\n",
       "      <td>0</td>\n",
       "      <td>212</td>\n",
       "      <td>0</td>\n",
       "    </tr>\n",
       "    <tr>\n",
       "      <th>277</th>\n",
       "      <td>70</td>\n",
       "      <td>0</td>\n",
       "      <td>2.764923</td>\n",
       "      <td>1</td>\n",
       "      <td>1.579784</td>\n",
       "      <td>0</td>\n",
       "      <td>1.399674</td>\n",
       "      <td>0.041393</td>\n",
       "      <td>2.146128</td>\n",
       "      <td>1</td>\n",
       "      <td>0</td>\n",
       "      <td>246</td>\n",
       "      <td>0</td>\n",
       "    </tr>\n",
       "    <tr>\n",
       "      <th>281</th>\n",
       "      <td>70</td>\n",
       "      <td>0</td>\n",
       "      <td>2.764923</td>\n",
       "      <td>0</td>\n",
       "      <td>1.602060</td>\n",
       "      <td>0</td>\n",
       "      <td>1.707570</td>\n",
       "      <td>0.431364</td>\n",
       "      <td>2.133539</td>\n",
       "      <td>1</td>\n",
       "      <td>1</td>\n",
       "      <td>250</td>\n",
       "      <td>0</td>\n",
       "    </tr>\n",
       "    <tr>\n",
       "      <th>287</th>\n",
       "      <td>45</td>\n",
       "      <td>0</td>\n",
       "      <td>2.764923</td>\n",
       "      <td>1</td>\n",
       "      <td>1.740363</td>\n",
       "      <td>0</td>\n",
       "      <td>2.734800</td>\n",
       "      <td>0.000000</td>\n",
       "      <td>2.120574</td>\n",
       "      <td>0</td>\n",
       "      <td>0</td>\n",
       "      <td>250</td>\n",
       "      <td>0</td>\n",
       "    </tr>\n",
       "    <tr>\n",
       "      <th>296</th>\n",
       "      <td>45</td>\n",
       "      <td>0</td>\n",
       "      <td>3.313867</td>\n",
       "      <td>1</td>\n",
       "      <td>1.778151</td>\n",
       "      <td>0</td>\n",
       "      <td>2.870404</td>\n",
       "      <td>-0.096910</td>\n",
       "      <td>2.139879</td>\n",
       "      <td>0</td>\n",
       "      <td>0</td>\n",
       "      <td>278</td>\n",
       "      <td>0</td>\n",
       "    </tr>\n",
       "  </tbody>\n",
       "</table>"
      ],
      "text/plain": [
       "<IPython.core.display.HTML object>"
      ]
     },
     "metadata": {},
     "output_type": "display_data"
    },
    {
     "name": "stdout",
     "output_type": "stream",
     "text": [
      "\n",
      "platelets boxplot:\n"
     ]
    },
    {
     "data": {
      "image/png": "[encoded data removed]",
      "text/plain": [
       "<Figure size 432x288 with 1 Axes>"
      ]
     },
     "metadata": {
      "needs_background": "light"
     },
     "output_type": "display_data"
    }
   ],
   "source": [
    "investigate_outliers(all_data, 'platelets')"
   ]
  },
  {
   "cell_type": "markdown",
   "metadata": {},
   "source": [
    "### `serum_creatinine`\n",
    "This is almost the same story as `platelets` except that the deaths are greater in number and the tend is toward the upper bound instead of the lower bound.  Again, deviation is quite low."
   ]
  },
  {
   "cell_type": "code",
   "execution_count": 25,
   "metadata": {},
   "outputs": [
    {
     "name": "stdout",
     "output_type": "stream",
     "text": [
      "serum_creatinine:\n",
      "  17/299 total samples are outliers (5.69%)\n",
      "  11/17 deaths within the outliers (64.71%)\n",
      "  11/96 global deaths are from the outliers (11.46%)\n",
      "\n",
      "With outliers removed, serum_creatinine has (min=-0.3) (mean=0.05) (max: 0.43).\n",
      "Outliers and their distance from the removed mean:\n",
      "  [9] is ~0.92 from the removed mean.\n",
      "  [10] is ~0.55 from the removed mean.\n",
      "  [28] is ~0.71 from the removed mean.\n",
      "  [31] is ~0.42 from the removed mean.\n",
      "  [35] is ~0.49 from the removed mean.\n",
      "  [39] is ~0.42 from the removed mean.\n",
      "  [48] is ~0.59 from the removed mean.\n",
      "  [52] is ~0.78 from the removed mean.\n",
      "  [65] is ~0.41 from the removed mean.\n",
      "  [117] is ~0.45 from the removed mean.\n",
      "  [124] is ~0.52 from the removed mean.\n",
      "  [129] is ~0.48 from the removed mean.\n",
      "  [131] is ~0.73 from the removed mean.\n",
      "  [203] is ~0.49 from the removed mean.\n",
      "  [217] is ~0.9 from the removed mean.\n",
      "  [228] is ~0.65 from the removed mean.\n",
      "  [282] is ~0.53 from the removed mean.\n",
      "\n",
      "Raw data points:\n"
     ]
    },
    {
     "data": {
      "text/html": [
       "<table border=\"1\" class=\"dataframe\">\n",
       "  <thead>\n",
       "    <tr style=\"text-align: right;\">\n",
       "      <th></th>\n",
       "      <th>age</th>\n",
       "      <th>anaemia</th>\n",
       "      <th>creatinine_phosphokinase</th>\n",
       "      <th>diabetes</th>\n",
       "      <th>ejection_fraction</th>\n",
       "      <th>high_blood_pressure</th>\n",
       "      <th>platelets</th>\n",
       "      <th>serum_creatinine</th>\n",
       "      <th>serum_sodium</th>\n",
       "      <th>sex</th>\n",
       "      <th>smoking</th>\n",
       "      <th>time</th>\n",
       "      <th>DEATH_EVENT</th>\n",
       "    </tr>\n",
       "  </thead>\n",
       "  <tbody>\n",
       "    <tr>\n",
       "      <th>9</th>\n",
       "      <td>80</td>\n",
       "      <td>1</td>\n",
       "      <td>2.089905</td>\n",
       "      <td>0</td>\n",
       "      <td>1.544068</td>\n",
       "      <td>1</td>\n",
       "      <td>2.588832</td>\n",
       "      <td>0.973128</td>\n",
       "      <td>2.123852</td>\n",
       "      <td>1</td>\n",
       "      <td>1</td>\n",
       "      <td>10</td>\n",
       "      <td>1</td>\n",
       "    </tr>\n",
       "    <tr>\n",
       "      <th>10</th>\n",
       "      <td>75</td>\n",
       "      <td>1</td>\n",
       "      <td>1.908485</td>\n",
       "      <td>0</td>\n",
       "      <td>1.579784</td>\n",
       "      <td>1</td>\n",
       "      <td>2.565848</td>\n",
       "      <td>0.602060</td>\n",
       "      <td>2.117271</td>\n",
       "      <td>1</td>\n",
       "      <td>1</td>\n",
       "      <td>10</td>\n",
       "      <td>1</td>\n",
       "    </tr>\n",
       "    <tr>\n",
       "      <th>28</th>\n",
       "      <td>58</td>\n",
       "      <td>1</td>\n",
       "      <td>1.778151</td>\n",
       "      <td>0</td>\n",
       "      <td>1.579784</td>\n",
       "      <td>0</td>\n",
       "      <td>2.184691</td>\n",
       "      <td>0.763428</td>\n",
       "      <td>2.127105</td>\n",
       "      <td>1</td>\n",
       "      <td>0</td>\n",
       "      <td>26</td>\n",
       "      <td>1</td>\n",
       "    </tr>\n",
       "    <tr>\n",
       "      <th>31</th>\n",
       "      <td>85</td>\n",
       "      <td>0</td>\n",
       "      <td>1.361728</td>\n",
       "      <td>0</td>\n",
       "      <td>1.653213</td>\n",
       "      <td>0</td>\n",
       "      <td>2.556303</td>\n",
       "      <td>0.477121</td>\n",
       "      <td>2.120574</td>\n",
       "      <td>1</td>\n",
       "      <td>0</td>\n",
       "      <td>28</td>\n",
       "      <td>1</td>\n",
       "    </tr>\n",
       "    <tr>\n",
       "      <th>35</th>\n",
       "      <td>69</td>\n",
       "      <td>0</td>\n",
       "      <td>2.764923</td>\n",
       "      <td>1</td>\n",
       "      <td>1.544068</td>\n",
       "      <td>0</td>\n",
       "      <td>2.357935</td>\n",
       "      <td>0.544068</td>\n",
       "      <td>2.127105</td>\n",
       "      <td>1</td>\n",
       "      <td>0</td>\n",
       "      <td>30</td>\n",
       "      <td>1</td>\n",
       "    </tr>\n",
       "    <tr>\n",
       "      <th>39</th>\n",
       "      <td>60</td>\n",
       "      <td>0</td>\n",
       "      <td>2.371068</td>\n",
       "      <td>1</td>\n",
       "      <td>1.579784</td>\n",
       "      <td>0</td>\n",
       "      <td>2.517196</td>\n",
       "      <td>0.477121</td>\n",
       "      <td>2.152288</td>\n",
       "      <td>0</td>\n",
       "      <td>0</td>\n",
       "      <td>30</td>\n",
       "      <td>1</td>\n",
       "    </tr>\n",
       "    <tr>\n",
       "      <th>48</th>\n",
       "      <td>80</td>\n",
       "      <td>1</td>\n",
       "      <td>2.742725</td>\n",
       "      <td>0</td>\n",
       "      <td>1.301030</td>\n",
       "      <td>1</td>\n",
       "      <td>2.146128</td>\n",
       "      <td>0.643453</td>\n",
       "      <td>2.123852</td>\n",
       "      <td>1</td>\n",
       "      <td>0</td>\n",
       "      <td>41</td>\n",
       "      <td>1</td>\n",
       "    </tr>\n",
       "    <tr>\n",
       "      <th>52</th>\n",
       "      <td>60</td>\n",
       "      <td>0</td>\n",
       "      <td>3.598134</td>\n",
       "      <td>1</td>\n",
       "      <td>1.792392</td>\n",
       "      <td>0</td>\n",
       "      <td>2.420547</td>\n",
       "      <td>0.832509</td>\n",
       "      <td>2.164353</td>\n",
       "      <td>0</td>\n",
       "      <td>0</td>\n",
       "      <td>43</td>\n",
       "      <td>1</td>\n",
       "    </tr>\n",
       "    <tr>\n",
       "      <th>65</th>\n",
       "      <td>60</td>\n",
       "      <td>0</td>\n",
       "      <td>1.832509</td>\n",
       "      <td>0</td>\n",
       "      <td>1.301030</td>\n",
       "      <td>0</td>\n",
       "      <td>2.075547</td>\n",
       "      <td>0.462398</td>\n",
       "      <td>2.103804</td>\n",
       "      <td>1</td>\n",
       "      <td>1</td>\n",
       "      <td>64</td>\n",
       "      <td>1</td>\n",
       "    </tr>\n",
       "    <tr>\n",
       "      <th>117</th>\n",
       "      <td>85</td>\n",
       "      <td>1</td>\n",
       "      <td>2.008600</td>\n",
       "      <td>0</td>\n",
       "      <td>1.778151</td>\n",
       "      <td>0</td>\n",
       "      <td>2.705008</td>\n",
       "      <td>0.505150</td>\n",
       "      <td>2.139879</td>\n",
       "      <td>0</td>\n",
       "      <td>0</td>\n",
       "      <td>94</td>\n",
       "      <td>0</td>\n",
       "    </tr>\n",
       "    <tr>\n",
       "      <th>124</th>\n",
       "      <td>60</td>\n",
       "      <td>0</td>\n",
       "      <td>2.764923</td>\n",
       "      <td>0</td>\n",
       "      <td>1.602060</td>\n",
       "      <td>0</td>\n",
       "      <td>2.336460</td>\n",
       "      <td>0.568202</td>\n",
       "      <td>2.127105</td>\n",
       "      <td>1</td>\n",
       "      <td>0</td>\n",
       "      <td>96</td>\n",
       "      <td>1</td>\n",
       "    </tr>\n",
       "    <tr>\n",
       "      <th>129</th>\n",
       "      <td>53</td>\n",
       "      <td>1</td>\n",
       "      <td>2.431364</td>\n",
       "      <td>1</td>\n",
       "      <td>1.544068</td>\n",
       "      <td>0</td>\n",
       "      <td>2.356026</td>\n",
       "      <td>0.531479</td>\n",
       "      <td>2.161368</td>\n",
       "      <td>1</td>\n",
       "      <td>0</td>\n",
       "      <td>105</td>\n",
       "      <td>0</td>\n",
       "    </tr>\n",
       "    <tr>\n",
       "      <th>131</th>\n",
       "      <td>60</td>\n",
       "      <td>1</td>\n",
       "      <td>3.034227</td>\n",
       "      <td>1</td>\n",
       "      <td>1.653213</td>\n",
       "      <td>0</td>\n",
       "      <td>2.397940</td>\n",
       "      <td>0.785330</td>\n",
       "      <td>2.117271</td>\n",
       "      <td>1</td>\n",
       "      <td>0</td>\n",
       "      <td>107</td>\n",
       "      <td>0</td>\n",
       "    </tr>\n",
       "    <tr>\n",
       "      <th>203</th>\n",
       "      <td>60</td>\n",
       "      <td>0</td>\n",
       "      <td>1.770852</td>\n",
       "      <td>0</td>\n",
       "      <td>1.397940</td>\n",
       "      <td>1</td>\n",
       "      <td>2.326336</td>\n",
       "      <td>0.544068</td>\n",
       "      <td>2.133539</td>\n",
       "      <td>1</td>\n",
       "      <td>1</td>\n",
       "      <td>187</td>\n",
       "      <td>0</td>\n",
       "    </tr>\n",
       "    <tr>\n",
       "      <th>217</th>\n",
       "      <td>54</td>\n",
       "      <td>1</td>\n",
       "      <td>2.630428</td>\n",
       "      <td>0</td>\n",
       "      <td>1.845098</td>\n",
       "      <td>1</td>\n",
       "      <td>2.178977</td>\n",
       "      <td>0.954243</td>\n",
       "      <td>2.136721</td>\n",
       "      <td>0</td>\n",
       "      <td>0</td>\n",
       "      <td>196</td>\n",
       "      <td>1</td>\n",
       "    </tr>\n",
       "    <tr>\n",
       "      <th>228</th>\n",
       "      <td>65</td>\n",
       "      <td>0</td>\n",
       "      <td>1.748188</td>\n",
       "      <td>0</td>\n",
       "      <td>1.397940</td>\n",
       "      <td>0</td>\n",
       "      <td>2.374748</td>\n",
       "      <td>0.698970</td>\n",
       "      <td>2.113943</td>\n",
       "      <td>0</td>\n",
       "      <td>0</td>\n",
       "      <td>207</td>\n",
       "      <td>0</td>\n",
       "    </tr>\n",
       "    <tr>\n",
       "      <th>282</th>\n",
       "      <td>42</td>\n",
       "      <td>0</td>\n",
       "      <td>1.806180</td>\n",
       "      <td>0</td>\n",
       "      <td>1.477121</td>\n",
       "      <td>0</td>\n",
       "      <td>2.332438</td>\n",
       "      <td>0.579784</td>\n",
       "      <td>2.107210</td>\n",
       "      <td>1</td>\n",
       "      <td>1</td>\n",
       "      <td>250</td>\n",
       "      <td>0</td>\n",
       "    </tr>\n",
       "  </tbody>\n",
       "</table>"
      ],
      "text/plain": [
       "<IPython.core.display.HTML object>"
      ]
     },
     "metadata": {},
     "output_type": "display_data"
    },
    {
     "name": "stdout",
     "output_type": "stream",
     "text": [
      "\n",
      "serum_creatinine boxplot:\n"
     ]
    },
    {
     "data": {
      "image/png": "[encoded data removed]",
      "text/plain": [
       "<Figure size 432x288 with 1 Axes>"
      ]
     },
     "metadata": {
      "needs_background": "light"
     },
     "output_type": "display_data"
    }
   ],
   "source": [
    "investigate_outliers(all_data, 'serum_creatinine')"
   ]
  },
  {
   "cell_type": "markdown",
   "metadata": {},
   "source": [
    "### `serum_sodium`\n",
    "As with the first two sets of outliers, they contribute a little to the global score and do not deviate much."
   ]
  },
  {
   "cell_type": "code",
   "execution_count": 26,
   "metadata": {},
   "outputs": [
    {
     "name": "stdout",
     "output_type": "stream",
     "text": [
      "serum_sodium:\n",
      "  5/299 total samples are outliers (1.67%)\n",
      "  3/5 deaths within the outliers (60.0%)\n",
      "  3/96 global deaths are from the outliers (3.12%)\n",
      "\n",
      "With outliers removed, serum_sodium has (min=2.1) (mean=2.14) (max: 2.17).\n",
      "Outliers and their distance from the removed mean:\n",
      "  [4] is ~0.07 from the removed mean.\n",
      "  [19] is ~0.05 from the removed mean.\n",
      "  [126] is ~0.04 from the removed mean.\n",
      "  [199] is ~0.08 from the removed mean.\n",
      "  [225] is ~0.04 from the removed mean.\n",
      "\n",
      "Raw data points:\n"
     ]
    },
    {
     "data": {
      "text/html": [
       "<table border=\"1\" class=\"dataframe\">\n",
       "  <thead>\n",
       "    <tr style=\"text-align: right;\">\n",
       "      <th></th>\n",
       "      <th>age</th>\n",
       "      <th>anaemia</th>\n",
       "      <th>creatinine_phosphokinase</th>\n",
       "      <th>diabetes</th>\n",
       "      <th>ejection_fraction</th>\n",
       "      <th>high_blood_pressure</th>\n",
       "      <th>platelets</th>\n",
       "      <th>serum_creatinine</th>\n",
       "      <th>serum_sodium</th>\n",
       "      <th>sex</th>\n",
       "      <th>smoking</th>\n",
       "      <th>time</th>\n",
       "      <th>DEATH_EVENT</th>\n",
       "    </tr>\n",
       "  </thead>\n",
       "  <tbody>\n",
       "    <tr>\n",
       "      <th>4</th>\n",
       "      <td>65</td>\n",
       "      <td>1</td>\n",
       "      <td>2.204120</td>\n",
       "      <td>1</td>\n",
       "      <td>1.301030</td>\n",
       "      <td>0</td>\n",
       "      <td>2.514548</td>\n",
       "      <td>0.431364</td>\n",
       "      <td>2.064458</td>\n",
       "      <td>0</td>\n",
       "      <td>0</td>\n",
       "      <td>8</td>\n",
       "      <td>1</td>\n",
       "    </tr>\n",
       "    <tr>\n",
       "      <th>19</th>\n",
       "      <td>48</td>\n",
       "      <td>1</td>\n",
       "      <td>2.764923</td>\n",
       "      <td>1</td>\n",
       "      <td>1.740363</td>\n",
       "      <td>0</td>\n",
       "      <td>1.939519</td>\n",
       "      <td>0.278754</td>\n",
       "      <td>2.082785</td>\n",
       "      <td>0</td>\n",
       "      <td>0</td>\n",
       "      <td>15</td>\n",
       "      <td>1</td>\n",
       "    </tr>\n",
       "    <tr>\n",
       "      <th>126</th>\n",
       "      <td>46</td>\n",
       "      <td>0</td>\n",
       "      <td>2.225309</td>\n",
       "      <td>1</td>\n",
       "      <td>1.230449</td>\n",
       "      <td>1</td>\n",
       "      <td>2.432969</td>\n",
       "      <td>0.322219</td>\n",
       "      <td>2.093422</td>\n",
       "      <td>0</td>\n",
       "      <td>0</td>\n",
       "      <td>100</td>\n",
       "      <td>1</td>\n",
       "    </tr>\n",
       "    <tr>\n",
       "      <th>199</th>\n",
       "      <td>60</td>\n",
       "      <td>0</td>\n",
       "      <td>3.083144</td>\n",
       "      <td>1</td>\n",
       "      <td>1.544068</td>\n",
       "      <td>0</td>\n",
       "      <td>2.420547</td>\n",
       "      <td>0.255273</td>\n",
       "      <td>2.053078</td>\n",
       "      <td>1</td>\n",
       "      <td>1</td>\n",
       "      <td>186</td>\n",
       "      <td>0</td>\n",
       "    </tr>\n",
       "    <tr>\n",
       "      <th>225</th>\n",
       "      <td>75</td>\n",
       "      <td>0</td>\n",
       "      <td>2.829304</td>\n",
       "      <td>1</td>\n",
       "      <td>1.778151</td>\n",
       "      <td>0</td>\n",
       "      <td>2.423246</td>\n",
       "      <td>0.146128</td>\n",
       "      <td>2.096910</td>\n",
       "      <td>0</td>\n",
       "      <td>0</td>\n",
       "      <td>205</td>\n",
       "      <td>0</td>\n",
       "    </tr>\n",
       "  </tbody>\n",
       "</table>"
      ],
      "text/plain": [
       "<IPython.core.display.HTML object>"
      ]
     },
     "metadata": {},
     "output_type": "display_data"
    },
    {
     "name": "stdout",
     "output_type": "stream",
     "text": [
      "\n",
      "serum_sodium boxplot:\n"
     ]
    },
    {
     "data": {
      "image/png": "[encoded data removed]",
      "text/plain": [
       "<Figure size 432x288 with 1 Axes>"
      ]
     },
     "metadata": {
      "needs_background": "light"
     },
     "output_type": "display_data"
    }
   ],
   "source": [
    "investigate_outliers(all_data, 'serum_sodium')"
   ]
  },
  {
   "cell_type": "markdown",
   "metadata": {},
   "source": [
    "Overall, especially with a larger dataset, all of these outliers could be considered in more detail.  I'd have to also research the individual medical concepts in more detail to have a better judgment too.\n",
    "\n",
    "Given the small sample size, it is difficult to determine if they are truly erroneous or genuine variation that humans are able to experience with a lower probability."
   ]
  },
  {
   "cell_type": "markdown",
   "metadata": {},
   "source": [
    "## Target Variable Impact\n",
    "Blah..."
   ]
  },
  {
   "cell_type": "markdown",
   "metadata": {},
   "source": [
    "### `DEATH_EVENT` Balance\n",
    "A total of ~32% of the samples resulted in death.  That's almost a 30/70 split, which isn't *terrible* but definitely isn't great.  The best option here is to use some kind of resampling method, but that would be in our machine learning script, not in the EDA.  Since the data isn't horribly unbalanced (like in fraud detection), I'll likely leave it at first and consider it later."
   ]
  },
  {
   "cell_type": "code",
   "execution_count": 30,
   "metadata": {},
   "outputs": [
    {
     "name": "stdout",
     "output_type": "stream",
     "text": [
      "96/299 samples died (32.11%).\n"
     ]
    }
   ],
   "source": [
    "total_deaths = sum(all_data['DEATH_EVENT'] == 1)\n",
    "total_deaths_pct = round((total_deaths / len(all_data))*100, 2)\n",
    "print(f'{total_deaths}/{len(all_data)} samples died ({total_deaths_pct}%).')"
   ]
  },
  {
   "cell_type": "code",
   "execution_count": 32,
   "metadata": {},
   "outputs": [
    {
     "data": {
      "image/png": "[encoded data removed]",
      "text/plain": [
       "<Figure size 432x288 with 1 Axes>"
      ]
     },
     "metadata": {
      "needs_background": "light"
     },
     "output_type": "display_data"
    }
   ],
   "source": [
    "sns.countplot(data=all_data, x='DEATH_EVENT')\n",
    "plt.show()"
   ]
  },
  {
   "cell_type": "markdown",
   "metadata": {},
   "source": [
    "### TEST AREA\n",
    "Testing... 1...2..."
   ]
  },
  {
   "cell_type": "code",
   "execution_count": 40,
   "metadata": {},
   "outputs": [
    {
     "data": {
      "text/plain": [
       "<AxesSubplot:xlabel='DEATH_EVENT', ylabel='ejection_fraction'>"
      ]
     },
     "execution_count": 40,
     "metadata": {},
     "output_type": "execute_result"
    },
    {
     "data": {
      "image/png": "[encoded data removed]",
      "text/plain": [
       "<Figure size 432x288 with 1 Axes>"
      ]
     },
     "metadata": {
      "needs_background": "light"
     },
     "output_type": "display_data"
    }
   ],
   "source": [
    "sns.stripplot(data=all_data, x='DEATH_EVENT', y='ejection_fraction')"
   ]
  },
  {
   "cell_type": "markdown",
   "metadata": {},
   "source": [
    "# TODO\n",
    "* Balance of data for target variable (including just death rate itself).\n",
    "* Correlation investigation for potential feature selection."
   ]
  },
  {
   "cell_type": "code",
   "execution_count": null,
   "metadata": {},
   "outputs": [],
   "source": []
  }
 ],
 "metadata": {
  "kernelspec": {
   "display_name": "Python 3",
   "language": "python",
   "name": "python3"
  },
  "language_info": {
   "codemirror_mode": {
    "name": "ipython",
    "version": 3
   },
   "file_extension": ".py",
   "mimetype": "text/x-python",
   "name": "python",
   "nbconvert_exporter": "python",
   "pygments_lexer": "ipython3",
   "version": "3.7.4"
  }
 },
 "nbformat": 4,
 "nbformat_minor": 4
}
